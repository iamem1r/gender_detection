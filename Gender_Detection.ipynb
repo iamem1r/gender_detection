{
 "cells": [
  {
   "cell_type": "markdown",
   "id": "bf0acdd6-ccd1-432f-9b2d-6b2cdeea9272",
   "metadata": {},
   "source": [
    "## <img src=\"./analytics_logo.jpg\" width=\"80\" height=\"80\"/> Mini Project: Predict Gender from Name"
   ]
  },
  {
   "cell_type": "markdown",
   "id": "7ef753f1-1696-4c75-9496-5a156c25119d",
   "metadata": {},
   "source": [
    "In this project I'm going to create a dataframe from scratch with fake data by Faker library, then with NamesDataset library I'll predict the gender of names."
   ]
  },
  {
   "cell_type": "markdown",
   "id": "eda23099-2b71-4e5a-a2c8-c4266b5590e7",
   "metadata": {},
   "source": [
    "## Prerequisites"
   ]
  },
  {
   "cell_type": "markdown",
   "id": "9b3bbdea-9c7f-4ca1-819a-36401ea486e4",
   "metadata": {},
   "source": [
    "To do so, we use the following libraries:\n",
    "- [`Faker`](https://github.com/joke2k/faker): To generate fake names\n",
    "- [`names-dataset`](https://github.com/philipperemy/name-dataset): To get gender and country info"
   ]
  },
  {
   "cell_type": "code",
   "execution_count": null,
   "id": "70cce97f-cf06-4493-a3dc-b6a5d8ab810a",
   "metadata": {},
   "outputs": [],
   "source": [
    "!pip install Faker\n",
    "!pip install names-dataset"
   ]
  },
  {
   "cell_type": "markdown",
   "id": "b4b513bb-c1e4-4215-9a8c-c9e3e700be4d",
   "metadata": {},
   "source": [
    "# Let's Start"
   ]
  },
  {
   "cell_type": "markdown",
   "id": "a2265b91-8d54-4ffa-a443-92767a52cdf2",
   "metadata": {},
   "source": [
    "#### import required libraries"
   ]
  },
  {
   "cell_type": "code",
   "execution_count": 20,
   "id": "bcd8c334-52da-44b9-b6cc-e89b5dbbe607",
   "metadata": {},
   "outputs": [],
   "source": [
    "import pandas as pd\n",
    "import numpy as np\n",
    "from faker import Faker\n",
    "from faker.providers import internet\n",
    "from names_dataset import NameDataset, NameWrapper"
   ]
  },
  {
   "cell_type": "markdown",
   "id": "128db285-4491-4718-a53b-e1068dbc5729",
   "metadata": {},
   "source": [
    "#### generate fake data by Faker"
   ]
  },
  {
   "cell_type": "code",
   "execution_count": 42,
   "id": "ba35150e-2d24-4e73-858e-501a20962e00",
   "metadata": {},
   "outputs": [],
   "source": [
    "faker = Faker()"
   ]
  },
  {
   "cell_type": "code",
   "execution_count": 65,
   "id": "ca6021ac-e9cd-4956-8565-f165c351eabf",
   "metadata": {
    "tags": []
   },
   "outputs": [
    {
     "data": {
      "text/plain": [
       "array(['David Baker', 'Paige Long', 'Nicole Arias DDS', 'Lisa Brooks',\n",
       "       'Melvin Bailey', 'Courtney Lynn', 'Dylan Vasquez', 'Keith Shaffer',\n",
       "       'John Fowler', 'Kevin Johnson'], dtype='<U31')"
      ]
     },
     "execution_count": 65,
     "metadata": {},
     "output_type": "execute_result"
    }
   ],
   "source": [
    "names = np.array([faker.name() for _ in range(1000)], dtype='U31')\n",
    "names[:10]"
   ]
  },
  {
   "cell_type": "code",
   "execution_count": 44,
   "id": "99fe2c18-cdf2-4d44-aef2-416c9bfa3238",
   "metadata": {
    "tags": []
   },
   "outputs": [
    {
     "data": {
      "text/plain": [
       "array(['781 Laura Drive Apt. 593\\nGarciastad, OR 96308',\n",
       "       '10181 Christopher Forks\\nKatelynstad, NH 04549',\n",
       "       '4141 Connie Roads\\nMillerbury, OK 41415',\n",
       "       '782 Cortez Stream Apt. 139\\nNorth Susanview, DE 40247',\n",
       "       '7334 Nicole Forge Apt. 148\\nFieldstown, NE 79103',\n",
       "       'PSC 5403, Box 9622\\nAPO AP 32279',\n",
       "       '859 Lawrence Freeway\\nWest Colechester, KY 03613',\n",
       "       '804 Hall Run\\nEast Juan, TN 06843',\n",
       "       '93317 Alexandra Courts Apt. 284\\nChristopherhaven, PA 02076',\n",
       "       '8207 Joseph Camp Suite 409\\nPatrickland, OH 00949'], dtype='<U62')"
      ]
     },
     "execution_count": 44,
     "metadata": {},
     "output_type": "execute_result"
    }
   ],
   "source": [
    "address = np.array([faker.address() for _ in range(1000)])\n",
    "address[:10]"
   ]
  },
  {
   "cell_type": "code",
   "execution_count": 47,
   "id": "4fd2a213-00a2-472a-bf36-00af791f99b2",
   "metadata": {},
   "outputs": [
    {
     "data": {
      "text/plain": [
       "array(['Money threat whole live east political within.',\n",
       "       'Clear fast change like yet step.',\n",
       "       'Cell computer mother manager degree agent whose.',\n",
       "       'Difficult if must serve.', 'Project candidate line.',\n",
       "       'Response just today understand coach than her the.',\n",
       "       'Center company news yard.',\n",
       "       'Billion professional fire build recent.', 'Add guess your car.',\n",
       "       'Share too young response each always.'], dtype='<U67')"
      ]
     },
     "execution_count": 47,
     "metadata": {},
     "output_type": "execute_result"
    }
   ],
   "source": [
    "comment = np.array([faker.sentence() for _ in range(1000)])\n",
    "comment[:10]"
   ]
  },
  {
   "cell_type": "code",
   "execution_count": 50,
   "id": "66254bb4-0d9f-41e7-b8c7-b39d7d624565",
   "metadata": {},
   "outputs": [
    {
     "data": {
      "text/plain": [
       "array(['10.128.210.201', '172.17.239.64', '172.29.104.235',\n",
       "       '10.2.219.223', '172.28.112.53', '192.168.184.9', '10.141.119.31',\n",
       "       '192.168.63.189', '172.24.44.86', '10.73.221.32'], dtype='<U15')"
      ]
     },
     "execution_count": 50,
     "metadata": {},
     "output_type": "execute_result"
    }
   ],
   "source": [
    "fake.add_provider(internet)\n",
    "ip = np.array([fake.ipv4_private() for _ in range(1000)])\n",
    "ip[:10]"
   ]
  },
  {
   "cell_type": "code",
   "execution_count": 53,
   "id": "ec64b82d-b8a8-4b84-8d05-a87e5e274c2f",
   "metadata": {},
   "outputs": [
    {
     "data": {
      "text/plain": [
       "array([16, 55, 20, 11, 51,  4,  5, 94, 65, 72])"
      ]
     },
     "execution_count": 53,
     "metadata": {},
     "output_type": "execute_result"
    }
   ],
   "source": [
    "age = np.random.randint(1,100,1000)\n",
    "age[:10]"
   ]
  },
  {
   "cell_type": "code",
   "execution_count": 59,
   "id": "a0da1322-1e04-45aa-ab54-149bd0e7bf52",
   "metadata": {},
   "outputs": [
    {
     "data": {
      "text/plain": [
       "array([False,  True, False, False,  True,  True,  True,  True,  True,\n",
       "        True])"
      ]
     },
     "execution_count": 59,
     "metadata": {},
     "output_type": "execute_result"
    }
   ],
   "source": [
    "status = np.random.randint(0,2,1000,dtype=bool)\n",
    "status[:10]"
   ]
  },
  {
   "cell_type": "markdown",
   "id": "a216f37f-35f5-4d57-9753-67b497f3d1d8",
   "metadata": {},
   "source": [
    "- So, I generate 6 np.array completely fake by Faker. now it's time to create a data frame with them."
   ]
  },
  {
   "cell_type": "code",
   "execution_count": 83,
   "id": "fdbe8824-c215-4e68-a601-f4a77095d81c",
   "metadata": {},
   "outputs": [],
   "source": [
    "df_to = pd.DataFrame(data=[names, age, address, comment, ip, status])"
   ]
  },
  {
   "cell_type": "code",
   "execution_count": 84,
   "id": "803989e7-9c0c-489f-981b-e18a60572915",
   "metadata": {},
   "outputs": [
    {
     "data": {
      "text/html": [
       "<div>\n",
       "<style scoped>\n",
       "    .dataframe tbody tr th:only-of-type {\n",
       "        vertical-align: middle;\n",
       "    }\n",
       "\n",
       "    .dataframe tbody tr th {\n",
       "        vertical-align: top;\n",
       "    }\n",
       "\n",
       "    .dataframe thead th {\n",
       "        text-align: right;\n",
       "    }\n",
       "</style>\n",
       "<table border=\"1\" class=\"dataframe\">\n",
       "  <thead>\n",
       "    <tr style=\"text-align: right;\">\n",
       "      <th></th>\n",
       "      <th>0</th>\n",
       "      <th>1</th>\n",
       "      <th>2</th>\n",
       "      <th>3</th>\n",
       "      <th>4</th>\n",
       "      <th>5</th>\n",
       "    </tr>\n",
       "  </thead>\n",
       "  <tbody>\n",
       "    <tr>\n",
       "      <th>0</th>\n",
       "      <td>David Baker</td>\n",
       "      <td>16</td>\n",
       "      <td>781 Laura Drive Apt. 593\\nGarciastad, OR 96308</td>\n",
       "      <td>Money threat whole live east political within.</td>\n",
       "      <td>10.128.210.201</td>\n",
       "      <td>False</td>\n",
       "    </tr>\n",
       "    <tr>\n",
       "      <th>1</th>\n",
       "      <td>Paige Long</td>\n",
       "      <td>55</td>\n",
       "      <td>10181 Christopher Forks\\nKatelynstad, NH 04549</td>\n",
       "      <td>Clear fast change like yet step.</td>\n",
       "      <td>172.17.239.64</td>\n",
       "      <td>True</td>\n",
       "    </tr>\n",
       "  </tbody>\n",
       "</table>\n",
       "</div>"
      ],
      "text/plain": [
       "             0   1                                               2  \\\n",
       "0  David Baker  16  781 Laura Drive Apt. 593\\nGarciastad, OR 96308   \n",
       "1   Paige Long  55  10181 Christopher Forks\\nKatelynstad, NH 04549   \n",
       "\n",
       "                                                3               4      5  \n",
       "0  Money threat whole live east political within.  10.128.210.201  False  \n",
       "1                Clear fast change like yet step.   172.17.239.64   True  "
      ]
     },
     "execution_count": 84,
     "metadata": {},
     "output_type": "execute_result"
    }
   ],
   "source": [
    "df = df_to.T\n",
    "df.head(2)"
   ]
  },
  {
   "cell_type": "code",
   "execution_count": 85,
   "id": "18e74ffe-b245-4b2b-aa72-078f8b2b67eb",
   "metadata": {},
   "outputs": [],
   "source": [
    "df.columns = ['name', 'age', 'address', 'comment', 'ip', 'status']"
   ]
  },
  {
   "cell_type": "code",
   "execution_count": 86,
   "id": "481d466c-1f31-42d9-a0a8-66ed065552ac",
   "metadata": {},
   "outputs": [
    {
     "data": {
      "text/html": [
       "<div>\n",
       "<style scoped>\n",
       "    .dataframe tbody tr th:only-of-type {\n",
       "        vertical-align: middle;\n",
       "    }\n",
       "\n",
       "    .dataframe tbody tr th {\n",
       "        vertical-align: top;\n",
       "    }\n",
       "\n",
       "    .dataframe thead th {\n",
       "        text-align: right;\n",
       "    }\n",
       "</style>\n",
       "<table border=\"1\" class=\"dataframe\">\n",
       "  <thead>\n",
       "    <tr style=\"text-align: right;\">\n",
       "      <th></th>\n",
       "      <th>name</th>\n",
       "      <th>age</th>\n",
       "      <th>address</th>\n",
       "      <th>comment</th>\n",
       "      <th>ip</th>\n",
       "      <th>status</th>\n",
       "    </tr>\n",
       "  </thead>\n",
       "  <tbody>\n",
       "    <tr>\n",
       "      <th>0</th>\n",
       "      <td>David Baker</td>\n",
       "      <td>16</td>\n",
       "      <td>781 Laura Drive Apt. 593\\nGarciastad, OR 96308</td>\n",
       "      <td>Money threat whole live east political within.</td>\n",
       "      <td>10.128.210.201</td>\n",
       "      <td>False</td>\n",
       "    </tr>\n",
       "    <tr>\n",
       "      <th>1</th>\n",
       "      <td>Paige Long</td>\n",
       "      <td>55</td>\n",
       "      <td>10181 Christopher Forks\\nKatelynstad, NH 04549</td>\n",
       "      <td>Clear fast change like yet step.</td>\n",
       "      <td>172.17.239.64</td>\n",
       "      <td>True</td>\n",
       "    </tr>\n",
       "    <tr>\n",
       "      <th>2</th>\n",
       "      <td>Nicole Arias DDS</td>\n",
       "      <td>20</td>\n",
       "      <td>4141 Connie Roads\\nMillerbury, OK 41415</td>\n",
       "      <td>Cell computer mother manager degree agent whose.</td>\n",
       "      <td>172.29.104.235</td>\n",
       "      <td>False</td>\n",
       "    </tr>\n",
       "    <tr>\n",
       "      <th>3</th>\n",
       "      <td>Lisa Brooks</td>\n",
       "      <td>11</td>\n",
       "      <td>782 Cortez Stream Apt. 139\\nNorth Susanview, D...</td>\n",
       "      <td>Difficult if must serve.</td>\n",
       "      <td>10.2.219.223</td>\n",
       "      <td>False</td>\n",
       "    </tr>\n",
       "    <tr>\n",
       "      <th>4</th>\n",
       "      <td>Melvin Bailey</td>\n",
       "      <td>51</td>\n",
       "      <td>7334 Nicole Forge Apt. 148\\nFieldstown, NE 79103</td>\n",
       "      <td>Project candidate line.</td>\n",
       "      <td>172.28.112.53</td>\n",
       "      <td>True</td>\n",
       "    </tr>\n",
       "    <tr>\n",
       "      <th>...</th>\n",
       "      <td>...</td>\n",
       "      <td>...</td>\n",
       "      <td>...</td>\n",
       "      <td>...</td>\n",
       "      <td>...</td>\n",
       "      <td>...</td>\n",
       "    </tr>\n",
       "    <tr>\n",
       "      <th>995</th>\n",
       "      <td>Matthew Owens</td>\n",
       "      <td>45</td>\n",
       "      <td>USCGC Jones\\nFPO AP 55681</td>\n",
       "      <td>Respond meeting paper third.</td>\n",
       "      <td>10.244.14.20</td>\n",
       "      <td>True</td>\n",
       "    </tr>\n",
       "    <tr>\n",
       "      <th>996</th>\n",
       "      <td>Jamie Crawford</td>\n",
       "      <td>47</td>\n",
       "      <td>80546 Guerra Brooks Apt. 443\\nRiverahaven, CA ...</td>\n",
       "      <td>Common almost only check paper old cup.</td>\n",
       "      <td>10.133.251.246</td>\n",
       "      <td>False</td>\n",
       "    </tr>\n",
       "    <tr>\n",
       "      <th>997</th>\n",
       "      <td>Shannon Chandler</td>\n",
       "      <td>27</td>\n",
       "      <td>9798 Blair Walk\\nNorth Pamela, NH 28129</td>\n",
       "      <td>Away bring foreign become son available contro...</td>\n",
       "      <td>10.220.204.70</td>\n",
       "      <td>False</td>\n",
       "    </tr>\n",
       "    <tr>\n",
       "      <th>998</th>\n",
       "      <td>Hannah Cooper</td>\n",
       "      <td>20</td>\n",
       "      <td>309 Morris Land\\nEthanbury, MS 32060</td>\n",
       "      <td>Any low coach positive continue between also.</td>\n",
       "      <td>192.168.118.218</td>\n",
       "      <td>True</td>\n",
       "    </tr>\n",
       "    <tr>\n",
       "      <th>999</th>\n",
       "      <td>Anthony Jackson</td>\n",
       "      <td>38</td>\n",
       "      <td>2148 Burnett Ridge\\nEricside, GA 50252</td>\n",
       "      <td>Light actually positive between.</td>\n",
       "      <td>172.21.41.197</td>\n",
       "      <td>False</td>\n",
       "    </tr>\n",
       "  </tbody>\n",
       "</table>\n",
       "<p>1000 rows × 6 columns</p>\n",
       "</div>"
      ],
      "text/plain": [
       "                 name age                                            address  \\\n",
       "0         David Baker  16     781 Laura Drive Apt. 593\\nGarciastad, OR 96308   \n",
       "1          Paige Long  55     10181 Christopher Forks\\nKatelynstad, NH 04549   \n",
       "2    Nicole Arias DDS  20            4141 Connie Roads\\nMillerbury, OK 41415   \n",
       "3         Lisa Brooks  11  782 Cortez Stream Apt. 139\\nNorth Susanview, D...   \n",
       "4       Melvin Bailey  51   7334 Nicole Forge Apt. 148\\nFieldstown, NE 79103   \n",
       "..                ...  ..                                                ...   \n",
       "995     Matthew Owens  45                          USCGC Jones\\nFPO AP 55681   \n",
       "996    Jamie Crawford  47  80546 Guerra Brooks Apt. 443\\nRiverahaven, CA ...   \n",
       "997  Shannon Chandler  27            9798 Blair Walk\\nNorth Pamela, NH 28129   \n",
       "998     Hannah Cooper  20               309 Morris Land\\nEthanbury, MS 32060   \n",
       "999   Anthony Jackson  38             2148 Burnett Ridge\\nEricside, GA 50252   \n",
       "\n",
       "                                               comment               ip status  \n",
       "0       Money threat whole live east political within.   10.128.210.201  False  \n",
       "1                     Clear fast change like yet step.    172.17.239.64   True  \n",
       "2     Cell computer mother manager degree agent whose.   172.29.104.235  False  \n",
       "3                             Difficult if must serve.     10.2.219.223  False  \n",
       "4                              Project candidate line.    172.28.112.53   True  \n",
       "..                                                 ...              ...    ...  \n",
       "995                       Respond meeting paper third.     10.244.14.20   True  \n",
       "996            Common almost only check paper old cup.   10.133.251.246  False  \n",
       "997  Away bring foreign become son available contro...    10.220.204.70  False  \n",
       "998      Any low coach positive continue between also.  192.168.118.218   True  \n",
       "999                   Light actually positive between.    172.21.41.197  False  \n",
       "\n",
       "[1000 rows x 6 columns]"
      ]
     },
     "execution_count": 86,
     "metadata": {},
     "output_type": "execute_result"
    }
   ],
   "source": [
    "df"
   ]
  },
  {
   "cell_type": "markdown",
   "id": "be6b3518-58b3-4a89-8a3c-3e7e206977bb",
   "metadata": {},
   "source": [
    "### let's work with namesdataset to get the gender of each names"
   ]
  },
  {
   "cell_type": "code",
   "execution_count": 88,
   "id": "602cb368-e7c0-4e8c-9636-d05f5c455aa1",
   "metadata": {},
   "outputs": [],
   "source": [
    "nd = NameDataset()"
   ]
  },
  {
   "cell_type": "code",
   "execution_count": 194,
   "id": "a3b2e5e0-8f99-40b1-981e-efa82efdba32",
   "metadata": {},
   "outputs": [
    {
     "data": {
      "text/plain": [
       "{'country': {'United Arab Emirates': 0.006,\n",
       "  'Afghanistan': 0.003,\n",
       "  'Belgium': 0.003,\n",
       "  'Germany': 0.009,\n",
       "  'Greece': 0.003,\n",
       "  'Iraq': 0.022,\n",
       "  'Iran, Islamic Republic of': 0.931,\n",
       "  'Netherlands': 0.006,\n",
       "  'Turkey': 0.013,\n",
       "  'United States': 0.003},\n",
       " 'gender': {'Female': 0.035, 'Male': 0.965},\n",
       " 'rank': {'Iran, Islamic Republic of': 899,\n",
       "  'United Arab Emirates': None,\n",
       "  'Afghanistan': None,\n",
       "  'Belgium': None,\n",
       "  'Germany': None,\n",
       "  'Greece': None,\n",
       "  'Iraq': None,\n",
       "  'Netherlands': None,\n",
       "  'Turkey': None,\n",
       "  'United States': None}}"
      ]
     },
     "execution_count": 194,
     "metadata": {},
     "output_type": "execute_result"
    }
   ],
   "source": [
    "fn_info = nd.search('کوروش')['first_name']\n",
    "fn_info"
   ]
  },
  {
   "cell_type": "markdown",
   "id": "ec2d6507-3e5e-403b-a899-203fa549c0ba",
   "metadata": {},
   "source": [
    "#### So with this JSON like schema we'll find out 3 things:\n",
    "   - country probability\n",
    "   - gender prediction\n",
    "   - rank of name in each country"
   ]
  },
  {
   "cell_type": "code",
   "execution_count": 199,
   "id": "15895250-95d7-4257-be32-cb93f57d239e",
   "metadata": {},
   "outputs": [],
   "source": [
    "def cleanNullTerms(d):\n",
    "    clean = {}\n",
    "    for k, v in d.items():\n",
    "        if isinstance(v, dict):\n",
    "            nested = cleanNullTerms(v)\n",
    "            if len(nested.keys()) > 0:\n",
    "                clean[k] = nested\n",
    "        elif v is not None:\n",
    "            clean[k] = v\n",
    "    return clean"
   ]
  },
  {
   "cell_type": "code",
   "execution_count": 213,
   "id": "1f4238a3-b014-4da3-8f64-033310dd06a3",
   "metadata": {},
   "outputs": [
    {
     "data": {
      "text/plain": [
       "{'rank': {'United Arab Emirates': 12168,\n",
       "  'Canada': 5364,\n",
       "  'Germany': 4650,\n",
       "  'United Kingdom': 11656,\n",
       "  'Iran, Islamic Republic of': 216,\n",
       "  'Kuwait': 8123,\n",
       "  'Netherlands': 9041,\n",
       "  'Sweden': 1091}}"
      ]
     },
     "execution_count": 213,
     "metadata": {},
     "output_type": "execute_result"
    }
   ],
   "source": [
    "# Dictionary with None values\n",
    "\n",
    "d = {'rank': {'United Arab Emirates': 12168,\n",
    "  'Canada': 5364,\n",
    "  'Germany': 4650,\n",
    "  'United Kingdom': 11656,\n",
    "  'Iran, Islamic Republic of': 216,\n",
    "  'Kuwait': 8123,\n",
    "  'Netherlands': 9041,\n",
    "  'Sweden': 1091,\n",
    "  'Iraq': None,\n",
    "  'Turkey': None}}\n",
    "\n",
    "# Testing function\n",
    "cleanNullTerms(d)"
   ]
  },
  {
   "cell_type": "code",
   "execution_count": 207,
   "id": "a58d96d4-f387-4f76-b64d-f56ea4e8785f",
   "metadata": {},
   "outputs": [
    {
     "data": {
      "text/plain": [
       "'Female'"
      ]
     },
     "execution_count": 207,
     "metadata": {},
     "output_type": "execute_result"
    }
   ],
   "source": [
    "def get_gender(name):\n",
    "    \"\"\"\n",
    "    \"\"\"\n",
    "    fn_info = nd.search(name)['first_name']\n",
    "    if fn_info is not None:\n",
    "        if fn_info['gender'] is not None:\n",
    "            if None not in list(fn_info['gender'].values()):\n",
    "                return max(fn_info['gender'], key=fn_info['gender'].get)\n",
    "            else:\n",
    "                gender_dict = cleanNullTerms(fn_info['gender'])\n",
    "                return max(gender_dict, key=gender_dict.get)\n",
    "    \n",
    "    return None\n",
    "\n",
    "\n",
    "# Testing function\n",
    "get_gender('اسما')"
   ]
  },
  {
   "cell_type": "code",
   "execution_count": 210,
   "id": "7ca46003-0f90-4e31-933a-fc07e1905b05",
   "metadata": {},
   "outputs": [
    {
     "data": {
      "text/plain": [
       "'Egypt'"
      ]
     },
     "execution_count": 210,
     "metadata": {},
     "output_type": "execute_result"
    }
   ],
   "source": [
    "def country_probability(name):\n",
    "    \"\"\"\n",
    "    \"\"\"\n",
    "    fn_info = nd.search(name)['first_name']\n",
    "    if fn_info is not None:\n",
    "        if fn_info['country'] is not None:\n",
    "            if None not in list(fn_info['country'].values()):\n",
    "                return max(fn_info['country'], key=fn_info['country'].get)\n",
    "            else:\n",
    "                country_dict = cleanNullTerms(fn_info['country'])\n",
    "                return max(country_dict, key=country_dict.get)\n",
    "    \n",
    "    return None\n",
    "\n",
    "\n",
    "# Testing function\n",
    "country_probability('اسما')"
   ]
  },
  {
   "cell_type": "code",
   "execution_count": 216,
   "id": "57e23471-831c-40d4-981b-659c0c871443",
   "metadata": {},
   "outputs": [
    {
     "data": {
      "text/plain": [
       "'Egypt'"
      ]
     },
     "execution_count": 216,
     "metadata": {},
     "output_type": "execute_result"
    }
   ],
   "source": [
    "def get_rank(name):\n",
    "    \"\"\"\n",
    "    \"\"\"\n",
    "    fn_info = nd.search(name)['first_name']\n",
    "    if fn_info is not None:\n",
    "        if fn_info['rank'] is not None:\n",
    "            if None not in list(fn_info['rank'].values()):\n",
    "                return max(fn_info['country'], key=fn_info['country'].get)\n",
    "            else:\n",
    "                rank_dict = cleanNullTerms(fn_info['rank'])\n",
    "                return max(rank_dict, key=rank_dict.get)\n",
    "    \n",
    "    return None\n",
    "\n",
    "# Testing function\n",
    "get_rank('اسما')"
   ]
  },
  {
   "cell_type": "markdown",
   "id": "9a68a3cb-b571-488c-8551-614b4b8ffb50",
   "metadata": {},
   "source": [
    "## Now lets apply these functions on our dataframe"
   ]
  },
  {
   "cell_type": "markdown",
   "id": "55d99c8b-8652-4875-ba5d-6019d8d517c9",
   "metadata": {},
   "source": [
    "### first lets split the first names"
   ]
  },
  {
   "cell_type": "code",
   "execution_count": 226,
   "id": "d6aac421-eb19-4b25-b088-0bf9b6b4f8ce",
   "metadata": {},
   "outputs": [],
   "source": [
    "df.insert(\n",
    "    loc=2,\n",
    "    column='first_name',\n",
    "    value=df.name.apply(lambda name: name.split()[0])\n",
    ")"
   ]
  },
  {
   "cell_type": "markdown",
   "id": "6114df59-e50d-427f-b59b-dec1f959d9c0",
   "metadata": {},
   "source": [
    "### then apply functions"
   ]
  },
  {
   "cell_type": "code",
   "execution_count": 228,
   "id": "0476d742-757d-4969-8fb2-5eb710fc0822",
   "metadata": {},
   "outputs": [],
   "source": [
    "df.insert(\n",
    "    loc=3,\n",
    "    column='gender',\n",
    "    value=df.first_name.apply(lambda fn: get_gender(fn))\n",
    ")"
   ]
  },
  {
   "cell_type": "code",
   "execution_count": 230,
   "id": "b6c2f2e0-fa87-479b-928d-2d283690d3d3",
   "metadata": {},
   "outputs": [],
   "source": [
    "df.insert(\n",
    "    loc=4,\n",
    "    column='country',\n",
    "    value=df.first_name.apply(lambda fn: country_probability(fn))\n",
    ")"
   ]
  },
  {
   "cell_type": "code",
   "execution_count": 233,
   "id": "bc0f3742-df88-4cf1-a7e4-eb8f551716c4",
   "metadata": {},
   "outputs": [],
   "source": [
    "df.insert(\n",
    "    loc=5,\n",
    "    column='rank',\n",
    "    value=df.first_name.apply(lambda fn: get_rank(fn))\n",
    ")"
   ]
  },
  {
   "cell_type": "code",
   "execution_count": 246,
   "id": "8d0c0817-62c6-46cf-a932-b0071516d5df",
   "metadata": {},
   "outputs": [
    {
     "data": {
      "text/plain": [
       "United States     780\n",
       "United Kingdom     69\n",
       "Italy              47\n",
       "France             43\n",
       "Colombia           29\n",
       "Nigeria             7\n",
       "Brazil              6\n",
       "Germany             3\n",
       "Mexico              3\n",
       "Spain               2\n",
       "Poland              1\n",
       "South Africa        1\n",
       "Name: country, dtype: int64"
      ]
     },
     "execution_count": 246,
     "metadata": {},
     "output_type": "execute_result"
    }
   ],
   "source": [
    "df.country.value_counts()"
   ]
  },
  {
   "cell_type": "code",
   "execution_count": 247,
   "id": "dcac47d1-725a-455f-86fa-6d10bb1d171a",
   "metadata": {},
   "outputs": [
    {
     "data": {
      "text/html": [
       "<div>\n",
       "<style scoped>\n",
       "    .dataframe tbody tr th:only-of-type {\n",
       "        vertical-align: middle;\n",
       "    }\n",
       "\n",
       "    .dataframe tbody tr th {\n",
       "        vertical-align: top;\n",
       "    }\n",
       "\n",
       "    .dataframe thead th {\n",
       "        text-align: right;\n",
       "    }\n",
       "</style>\n",
       "<table border=\"1\" class=\"dataframe\">\n",
       "  <thead>\n",
       "    <tr style=\"text-align: right;\">\n",
       "      <th></th>\n",
       "      <th>name</th>\n",
       "      <th>age</th>\n",
       "      <th>first_name</th>\n",
       "      <th>gender</th>\n",
       "      <th>country</th>\n",
       "      <th>rank</th>\n",
       "      <th>address</th>\n",
       "      <th>comment</th>\n",
       "      <th>ip</th>\n",
       "      <th>status</th>\n",
       "    </tr>\n",
       "  </thead>\n",
       "  <tbody>\n",
       "    <tr>\n",
       "      <th>0</th>\n",
       "      <td>David Baker</td>\n",
       "      <td>16</td>\n",
       "      <td>David</td>\n",
       "      <td>Male</td>\n",
       "      <td>United States</td>\n",
       "      <td>United States</td>\n",
       "      <td>781 Laura Drive Apt. 593\\nGarciastad, OR 96308</td>\n",
       "      <td>Money threat whole live east political within.</td>\n",
       "      <td>10.128.210.201</td>\n",
       "      <td>False</td>\n",
       "    </tr>\n",
       "    <tr>\n",
       "      <th>1</th>\n",
       "      <td>Paige Long</td>\n",
       "      <td>55</td>\n",
       "      <td>Paige</td>\n",
       "      <td>Female</td>\n",
       "      <td>United States</td>\n",
       "      <td>United States</td>\n",
       "      <td>10181 Christopher Forks\\nKatelynstad, NH 04549</td>\n",
       "      <td>Clear fast change like yet step.</td>\n",
       "      <td>172.17.239.64</td>\n",
       "      <td>True</td>\n",
       "    </tr>\n",
       "    <tr>\n",
       "      <th>2</th>\n",
       "      <td>Nicole Arias DDS</td>\n",
       "      <td>20</td>\n",
       "      <td>Nicole</td>\n",
       "      <td>Female</td>\n",
       "      <td>United States</td>\n",
       "      <td>United States</td>\n",
       "      <td>4141 Connie Roads\\nMillerbury, OK 41415</td>\n",
       "      <td>Cell computer mother manager degree agent whose.</td>\n",
       "      <td>172.29.104.235</td>\n",
       "      <td>False</td>\n",
       "    </tr>\n",
       "    <tr>\n",
       "      <th>3</th>\n",
       "      <td>Lisa Brooks</td>\n",
       "      <td>11</td>\n",
       "      <td>Lisa</td>\n",
       "      <td>Female</td>\n",
       "      <td>United States</td>\n",
       "      <td>United States</td>\n",
       "      <td>782 Cortez Stream Apt. 139\\nNorth Susanview, D...</td>\n",
       "      <td>Difficult if must serve.</td>\n",
       "      <td>10.2.219.223</td>\n",
       "      <td>False</td>\n",
       "    </tr>\n",
       "    <tr>\n",
       "      <th>4</th>\n",
       "      <td>Melvin Bailey</td>\n",
       "      <td>51</td>\n",
       "      <td>Melvin</td>\n",
       "      <td>Male</td>\n",
       "      <td>United States</td>\n",
       "      <td>United States</td>\n",
       "      <td>7334 Nicole Forge Apt. 148\\nFieldstown, NE 79103</td>\n",
       "      <td>Project candidate line.</td>\n",
       "      <td>172.28.112.53</td>\n",
       "      <td>True</td>\n",
       "    </tr>\n",
       "    <tr>\n",
       "      <th>...</th>\n",
       "      <td>...</td>\n",
       "      <td>...</td>\n",
       "      <td>...</td>\n",
       "      <td>...</td>\n",
       "      <td>...</td>\n",
       "      <td>...</td>\n",
       "      <td>...</td>\n",
       "      <td>...</td>\n",
       "      <td>...</td>\n",
       "      <td>...</td>\n",
       "    </tr>\n",
       "    <tr>\n",
       "      <th>995</th>\n",
       "      <td>Matthew Owens</td>\n",
       "      <td>45</td>\n",
       "      <td>Matthew</td>\n",
       "      <td>Male</td>\n",
       "      <td>United States</td>\n",
       "      <td>United States</td>\n",
       "      <td>USCGC Jones\\nFPO AP 55681</td>\n",
       "      <td>Respond meeting paper third.</td>\n",
       "      <td>10.244.14.20</td>\n",
       "      <td>True</td>\n",
       "    </tr>\n",
       "    <tr>\n",
       "      <th>996</th>\n",
       "      <td>Jamie Crawford</td>\n",
       "      <td>47</td>\n",
       "      <td>Jamie</td>\n",
       "      <td>Male</td>\n",
       "      <td>United Kingdom</td>\n",
       "      <td>United Kingdom</td>\n",
       "      <td>80546 Guerra Brooks Apt. 443\\nRiverahaven, CA ...</td>\n",
       "      <td>Common almost only check paper old cup.</td>\n",
       "      <td>10.133.251.246</td>\n",
       "      <td>False</td>\n",
       "    </tr>\n",
       "    <tr>\n",
       "      <th>997</th>\n",
       "      <td>Shannon Chandler</td>\n",
       "      <td>27</td>\n",
       "      <td>Shannon</td>\n",
       "      <td>Female</td>\n",
       "      <td>United States</td>\n",
       "      <td>United States</td>\n",
       "      <td>9798 Blair Walk\\nNorth Pamela, NH 28129</td>\n",
       "      <td>Away bring foreign become son available contro...</td>\n",
       "      <td>10.220.204.70</td>\n",
       "      <td>False</td>\n",
       "    </tr>\n",
       "    <tr>\n",
       "      <th>998</th>\n",
       "      <td>Hannah Cooper</td>\n",
       "      <td>20</td>\n",
       "      <td>Hannah</td>\n",
       "      <td>Female</td>\n",
       "      <td>United Kingdom</td>\n",
       "      <td>United Kingdom</td>\n",
       "      <td>309 Morris Land\\nEthanbury, MS 32060</td>\n",
       "      <td>Any low coach positive continue between also.</td>\n",
       "      <td>192.168.118.218</td>\n",
       "      <td>True</td>\n",
       "    </tr>\n",
       "    <tr>\n",
       "      <th>999</th>\n",
       "      <td>Anthony Jackson</td>\n",
       "      <td>38</td>\n",
       "      <td>Anthony</td>\n",
       "      <td>Male</td>\n",
       "      <td>United States</td>\n",
       "      <td>United States</td>\n",
       "      <td>2148 Burnett Ridge\\nEricside, GA 50252</td>\n",
       "      <td>Light actually positive between.</td>\n",
       "      <td>172.21.41.197</td>\n",
       "      <td>False</td>\n",
       "    </tr>\n",
       "  </tbody>\n",
       "</table>\n",
       "<p>1000 rows × 10 columns</p>\n",
       "</div>"
      ],
      "text/plain": [
       "                 name age first_name  gender         country            rank  \\\n",
       "0         David Baker  16      David    Male   United States   United States   \n",
       "1          Paige Long  55      Paige  Female   United States   United States   \n",
       "2    Nicole Arias DDS  20     Nicole  Female   United States   United States   \n",
       "3         Lisa Brooks  11       Lisa  Female   United States   United States   \n",
       "4       Melvin Bailey  51     Melvin    Male   United States   United States   \n",
       "..                ...  ..        ...     ...             ...             ...   \n",
       "995     Matthew Owens  45    Matthew    Male   United States   United States   \n",
       "996    Jamie Crawford  47      Jamie    Male  United Kingdom  United Kingdom   \n",
       "997  Shannon Chandler  27    Shannon  Female   United States   United States   \n",
       "998     Hannah Cooper  20     Hannah  Female  United Kingdom  United Kingdom   \n",
       "999   Anthony Jackson  38    Anthony    Male   United States   United States   \n",
       "\n",
       "                                               address  \\\n",
       "0       781 Laura Drive Apt. 593\\nGarciastad, OR 96308   \n",
       "1       10181 Christopher Forks\\nKatelynstad, NH 04549   \n",
       "2              4141 Connie Roads\\nMillerbury, OK 41415   \n",
       "3    782 Cortez Stream Apt. 139\\nNorth Susanview, D...   \n",
       "4     7334 Nicole Forge Apt. 148\\nFieldstown, NE 79103   \n",
       "..                                                 ...   \n",
       "995                          USCGC Jones\\nFPO AP 55681   \n",
       "996  80546 Guerra Brooks Apt. 443\\nRiverahaven, CA ...   \n",
       "997            9798 Blair Walk\\nNorth Pamela, NH 28129   \n",
       "998               309 Morris Land\\nEthanbury, MS 32060   \n",
       "999             2148 Burnett Ridge\\nEricside, GA 50252   \n",
       "\n",
       "                                               comment               ip status  \n",
       "0       Money threat whole live east political within.   10.128.210.201  False  \n",
       "1                     Clear fast change like yet step.    172.17.239.64   True  \n",
       "2     Cell computer mother manager degree agent whose.   172.29.104.235  False  \n",
       "3                             Difficult if must serve.     10.2.219.223  False  \n",
       "4                              Project candidate line.    172.28.112.53   True  \n",
       "..                                                 ...              ...    ...  \n",
       "995                       Respond meeting paper third.     10.244.14.20   True  \n",
       "996            Common almost only check paper old cup.   10.133.251.246  False  \n",
       "997  Away bring foreign become son available contro...    10.220.204.70  False  \n",
       "998      Any low coach positive continue between also.  192.168.118.218   True  \n",
       "999                   Light actually positive between.    172.21.41.197  False  \n",
       "\n",
       "[1000 rows x 10 columns]"
      ]
     },
     "execution_count": 247,
     "metadata": {},
     "output_type": "execute_result"
    }
   ],
   "source": [
    "df"
   ]
  },
  {
   "cell_type": "markdown",
   "id": "42dbf7a8-2733-4ef6-b90b-c133d8be2794",
   "metadata": {},
   "source": [
    "# recap with persian names"
   ]
  },
  {
   "cell_type": "code",
   "execution_count": 289,
   "id": "f7ae18b1-1211-4e26-a089-b38696df5044",
   "metadata": {},
   "outputs": [],
   "source": [
    "faker_per = Faker('fa')"
   ]
  },
  {
   "cell_type": "code",
   "execution_count": 290,
   "id": "c79666df-4f43-4c93-b86f-326f10af3add",
   "metadata": {},
   "outputs": [
    {
     "data": {
      "text/plain": [
       "array(['محمدجواد زارع', 'سرکار خانم دکتر هليا هومن', 'پارسا علی پور',\n",
       "       'سرکار خانم دکتر نرگس علی شاهی', 'امیرمهدی نیلوفری',\n",
       "       'جناب آقای دکتر ابوالفضل فرجی', 'جناب آقای محمدیاسین تهرانی',\n",
       "       'اميرعلي وثاق', 'نيايش نیلوفری', 'علیرضا رودگر', 'مهسا نعمتی',\n",
       "       'یاسمین عبدالعلی', 'جناب آقای دکتر آرين دادفر', 'اسرا اکبر پور',\n",
       "       'بهار همدانی', 'نازنین رودگر', 'آرتین حمیدی', 'محمدامین جلالی',\n",
       "       'هستی عزیزی', 'سرکار خانم دکتر نازنین سعیدی', 'مهدیه حمیدی',\n",
       "       'سبحان لاچینی', 'محيا رسته', 'سرکار خانم دکتر آوا روحانی',\n",
       "       'نازنین زهرا روحانی'], dtype='<U31')"
      ]
     },
     "execution_count": 290,
     "metadata": {},
     "output_type": "execute_result"
    }
   ],
   "source": [
    "name = np.array([faker_per.name() for _ in range(25)], dtype='U31')\n",
    "name"
   ]
  },
  {
   "cell_type": "markdown",
   "id": "ad600309-6e0e-4914-b08e-24fbaf460c27",
   "metadata": {},
   "source": [
    "## define a new function"
   ]
  },
  {
   "cell_type": "code",
   "execution_count": 291,
   "id": "17f25b48-09a3-403e-b593-05ab905ae565",
   "metadata": {},
   "outputs": [
    {
     "data": {
      "text/plain": [
       "'مرد'"
      ]
     },
     "execution_count": 291,
     "metadata": {},
     "output_type": "execute_result"
    }
   ],
   "source": [
    "def get_gender_persian(name):\n",
    "    \"\"\"\n",
    "    \"\"\"\n",
    "    fn_info = nd.search(name)['first_name']\n",
    "    if fn_info is not None:\n",
    "        if fn_info['gender'] is not None:\n",
    "            if None not in list(fn_info['gender'].values()):\n",
    "                max_ = max(fn_info['gender'], key=fn_info['gender'].get)\n",
    "                if max_ == 'Male':\n",
    "                    return 'مرد'\n",
    "                else:\n",
    "                    return 'زن'\n",
    "            else:\n",
    "                gender_dict = cleanNullTerms(fn_info['gender'])\n",
    "                max_ = max(gender_dict, key=gender_dict.get)\n",
    "                if max_ == 'Male':\n",
    "                    return 'مرد'\n",
    "                else:\n",
    "                    return 'زن'\n",
    "    \n",
    "    return None\n",
    "\n",
    "\n",
    "# Testing function\n",
    "get_gender_persian('مراد')"
   ]
  },
  {
   "cell_type": "code",
   "execution_count": 292,
   "id": "989aa8bd-be0e-47de-92ab-a19a55cd4e06",
   "metadata": {},
   "outputs": [],
   "source": [
    "df_per = pd.DataFrame(data=[name])\n",
    "df_per = df_per.T\n",
    "df_per.columns = ['name']"
   ]
  },
  {
   "cell_type": "code",
   "execution_count": 293,
   "id": "83a803fc-8508-4552-a0a2-8653874c5266",
   "metadata": {},
   "outputs": [],
   "source": [
    "df_per.insert(\n",
    "    loc=1,\n",
    "    column='fn',\n",
    "    value=df_per.name.apply(lambda name: name.split()[0])\n",
    ")"
   ]
  },
  {
   "cell_type": "code",
   "execution_count": 294,
   "id": "9a3e2bf4-844d-4fcd-80a3-aff2428f3da6",
   "metadata": {},
   "outputs": [
    {
     "data": {
      "text/html": [
       "<div>\n",
       "<style scoped>\n",
       "    .dataframe tbody tr th:only-of-type {\n",
       "        vertical-align: middle;\n",
       "    }\n",
       "\n",
       "    .dataframe tbody tr th {\n",
       "        vertical-align: top;\n",
       "    }\n",
       "\n",
       "    .dataframe thead th {\n",
       "        text-align: right;\n",
       "    }\n",
       "</style>\n",
       "<table border=\"1\" class=\"dataframe\">\n",
       "  <thead>\n",
       "    <tr style=\"text-align: right;\">\n",
       "      <th></th>\n",
       "      <th>name</th>\n",
       "      <th>fn</th>\n",
       "    </tr>\n",
       "  </thead>\n",
       "  <tbody>\n",
       "    <tr>\n",
       "      <th>0</th>\n",
       "      <td>محمدجواد زارع</td>\n",
       "      <td>محمدجواد</td>\n",
       "    </tr>\n",
       "    <tr>\n",
       "      <th>1</th>\n",
       "      <td>سرکار خانم دکتر هليا هومن</td>\n",
       "      <td>سرکار</td>\n",
       "    </tr>\n",
       "    <tr>\n",
       "      <th>2</th>\n",
       "      <td>پارسا علی پور</td>\n",
       "      <td>پارسا</td>\n",
       "    </tr>\n",
       "    <tr>\n",
       "      <th>3</th>\n",
       "      <td>سرکار خانم دکتر نرگس علی شاهی</td>\n",
       "      <td>سرکار</td>\n",
       "    </tr>\n",
       "    <tr>\n",
       "      <th>4</th>\n",
       "      <td>امیرمهدی نیلوفری</td>\n",
       "      <td>امیرمهدی</td>\n",
       "    </tr>\n",
       "    <tr>\n",
       "      <th>5</th>\n",
       "      <td>جناب آقای دکتر ابوالفضل فرجی</td>\n",
       "      <td>جناب</td>\n",
       "    </tr>\n",
       "    <tr>\n",
       "      <th>6</th>\n",
       "      <td>جناب آقای محمدیاسین تهرانی</td>\n",
       "      <td>جناب</td>\n",
       "    </tr>\n",
       "    <tr>\n",
       "      <th>7</th>\n",
       "      <td>اميرعلي وثاق</td>\n",
       "      <td>اميرعلي</td>\n",
       "    </tr>\n",
       "    <tr>\n",
       "      <th>8</th>\n",
       "      <td>نيايش نیلوفری</td>\n",
       "      <td>نيايش</td>\n",
       "    </tr>\n",
       "    <tr>\n",
       "      <th>9</th>\n",
       "      <td>علیرضا رودگر</td>\n",
       "      <td>علیرضا</td>\n",
       "    </tr>\n",
       "    <tr>\n",
       "      <th>10</th>\n",
       "      <td>مهسا نعمتی</td>\n",
       "      <td>مهسا</td>\n",
       "    </tr>\n",
       "    <tr>\n",
       "      <th>11</th>\n",
       "      <td>یاسمین عبدالعلی</td>\n",
       "      <td>یاسمین</td>\n",
       "    </tr>\n",
       "    <tr>\n",
       "      <th>12</th>\n",
       "      <td>جناب آقای دکتر آرين دادفر</td>\n",
       "      <td>جناب</td>\n",
       "    </tr>\n",
       "    <tr>\n",
       "      <th>13</th>\n",
       "      <td>اسرا اکبر پور</td>\n",
       "      <td>اسرا</td>\n",
       "    </tr>\n",
       "    <tr>\n",
       "      <th>14</th>\n",
       "      <td>بهار همدانی</td>\n",
       "      <td>بهار</td>\n",
       "    </tr>\n",
       "    <tr>\n",
       "      <th>15</th>\n",
       "      <td>نازنین رودگر</td>\n",
       "      <td>نازنین</td>\n",
       "    </tr>\n",
       "    <tr>\n",
       "      <th>16</th>\n",
       "      <td>آرتین حمیدی</td>\n",
       "      <td>آرتین</td>\n",
       "    </tr>\n",
       "    <tr>\n",
       "      <th>17</th>\n",
       "      <td>محمدامین جلالی</td>\n",
       "      <td>محمدامین</td>\n",
       "    </tr>\n",
       "    <tr>\n",
       "      <th>18</th>\n",
       "      <td>هستی عزیزی</td>\n",
       "      <td>هستی</td>\n",
       "    </tr>\n",
       "    <tr>\n",
       "      <th>19</th>\n",
       "      <td>سرکار خانم دکتر نازنین سعیدی</td>\n",
       "      <td>سرکار</td>\n",
       "    </tr>\n",
       "    <tr>\n",
       "      <th>20</th>\n",
       "      <td>مهدیه حمیدی</td>\n",
       "      <td>مهدیه</td>\n",
       "    </tr>\n",
       "    <tr>\n",
       "      <th>21</th>\n",
       "      <td>سبحان لاچینی</td>\n",
       "      <td>سبحان</td>\n",
       "    </tr>\n",
       "    <tr>\n",
       "      <th>22</th>\n",
       "      <td>محيا رسته</td>\n",
       "      <td>محيا</td>\n",
       "    </tr>\n",
       "    <tr>\n",
       "      <th>23</th>\n",
       "      <td>سرکار خانم دکتر آوا روحانی</td>\n",
       "      <td>سرکار</td>\n",
       "    </tr>\n",
       "    <tr>\n",
       "      <th>24</th>\n",
       "      <td>نازنین زهرا روحانی</td>\n",
       "      <td>نازنین</td>\n",
       "    </tr>\n",
       "  </tbody>\n",
       "</table>\n",
       "</div>"
      ],
      "text/plain": [
       "                             name        fn\n",
       "0                   محمدجواد زارع  محمدجواد\n",
       "1       سرکار خانم دکتر هليا هومن     سرکار\n",
       "2                   پارسا علی پور     پارسا\n",
       "3   سرکار خانم دکتر نرگس علی شاهی     سرکار\n",
       "4                امیرمهدی نیلوفری  امیرمهدی\n",
       "5    جناب آقای دکتر ابوالفضل فرجی      جناب\n",
       "6      جناب آقای محمدیاسین تهرانی      جناب\n",
       "7                    اميرعلي وثاق   اميرعلي\n",
       "8                   نيايش نیلوفری     نيايش\n",
       "9                    علیرضا رودگر    علیرضا\n",
       "10                     مهسا نعمتی      مهسا\n",
       "11                یاسمین عبدالعلی    یاسمین\n",
       "12      جناب آقای دکتر آرين دادفر      جناب\n",
       "13                  اسرا اکبر پور      اسرا\n",
       "14                    بهار همدانی      بهار\n",
       "15                   نازنین رودگر    نازنین\n",
       "16                    آرتین حمیدی     آرتین\n",
       "17                 محمدامین جلالی  محمدامین\n",
       "18                     هستی عزیزی      هستی\n",
       "19   سرکار خانم دکتر نازنین سعیدی     سرکار\n",
       "20                    مهدیه حمیدی     مهدیه\n",
       "21                   سبحان لاچینی     سبحان\n",
       "22                      محيا رسته      محيا\n",
       "23     سرکار خانم دکتر آوا روحانی     سرکار\n",
       "24             نازنین زهرا روحانی    نازنین"
      ]
     },
     "execution_count": 294,
     "metadata": {},
     "output_type": "execute_result"
    }
   ],
   "source": [
    "df_per"
   ]
  },
  {
   "cell_type": "code",
   "execution_count": 295,
   "id": "decc2984-2779-45b8-80ab-90d586f4825b",
   "metadata": {},
   "outputs": [],
   "source": [
    "df_per.insert(\n",
    "    loc=2,\n",
    "    column='gender',\n",
    "    value=df_per.fn.apply(lambda name: get_gender_persian(name))\n",
    ")"
   ]
  },
  {
   "cell_type": "code",
   "execution_count": 296,
   "id": "52c72ae5-b300-46e4-9c0a-d00b3228b121",
   "metadata": {},
   "outputs": [
    {
     "data": {
      "text/html": [
       "<div>\n",
       "<style scoped>\n",
       "    .dataframe tbody tr th:only-of-type {\n",
       "        vertical-align: middle;\n",
       "    }\n",
       "\n",
       "    .dataframe tbody tr th {\n",
       "        vertical-align: top;\n",
       "    }\n",
       "\n",
       "    .dataframe thead th {\n",
       "        text-align: right;\n",
       "    }\n",
       "</style>\n",
       "<table border=\"1\" class=\"dataframe\">\n",
       "  <thead>\n",
       "    <tr style=\"text-align: right;\">\n",
       "      <th></th>\n",
       "      <th>name</th>\n",
       "      <th>fn</th>\n",
       "      <th>gender</th>\n",
       "    </tr>\n",
       "  </thead>\n",
       "  <tbody>\n",
       "    <tr>\n",
       "      <th>0</th>\n",
       "      <td>محمدجواد زارع</td>\n",
       "      <td>محمدجواد</td>\n",
       "      <td>مرد</td>\n",
       "    </tr>\n",
       "    <tr>\n",
       "      <th>1</th>\n",
       "      <td>سرکار خانم دکتر هليا هومن</td>\n",
       "      <td>سرکار</td>\n",
       "      <td>None</td>\n",
       "    </tr>\n",
       "    <tr>\n",
       "      <th>2</th>\n",
       "      <td>پارسا علی پور</td>\n",
       "      <td>پارسا</td>\n",
       "      <td>مرد</td>\n",
       "    </tr>\n",
       "    <tr>\n",
       "      <th>3</th>\n",
       "      <td>سرکار خانم دکتر نرگس علی شاهی</td>\n",
       "      <td>سرکار</td>\n",
       "      <td>None</td>\n",
       "    </tr>\n",
       "    <tr>\n",
       "      <th>4</th>\n",
       "      <td>امیرمهدی نیلوفری</td>\n",
       "      <td>امیرمهدی</td>\n",
       "      <td>مرد</td>\n",
       "    </tr>\n",
       "    <tr>\n",
       "      <th>5</th>\n",
       "      <td>جناب آقای دکتر ابوالفضل فرجی</td>\n",
       "      <td>جناب</td>\n",
       "      <td>مرد</td>\n",
       "    </tr>\n",
       "    <tr>\n",
       "      <th>6</th>\n",
       "      <td>جناب آقای محمدیاسین تهرانی</td>\n",
       "      <td>جناب</td>\n",
       "      <td>مرد</td>\n",
       "    </tr>\n",
       "    <tr>\n",
       "      <th>7</th>\n",
       "      <td>اميرعلي وثاق</td>\n",
       "      <td>اميرعلي</td>\n",
       "      <td>مرد</td>\n",
       "    </tr>\n",
       "    <tr>\n",
       "      <th>8</th>\n",
       "      <td>نيايش نیلوفری</td>\n",
       "      <td>نيايش</td>\n",
       "      <td>None</td>\n",
       "    </tr>\n",
       "    <tr>\n",
       "      <th>9</th>\n",
       "      <td>علیرضا رودگر</td>\n",
       "      <td>علیرضا</td>\n",
       "      <td>مرد</td>\n",
       "    </tr>\n",
       "    <tr>\n",
       "      <th>10</th>\n",
       "      <td>مهسا نعمتی</td>\n",
       "      <td>مهسا</td>\n",
       "      <td>زن</td>\n",
       "    </tr>\n",
       "    <tr>\n",
       "      <th>11</th>\n",
       "      <td>یاسمین عبدالعلی</td>\n",
       "      <td>یاسمین</td>\n",
       "      <td>زن</td>\n",
       "    </tr>\n",
       "    <tr>\n",
       "      <th>12</th>\n",
       "      <td>جناب آقای دکتر آرين دادفر</td>\n",
       "      <td>جناب</td>\n",
       "      <td>مرد</td>\n",
       "    </tr>\n",
       "    <tr>\n",
       "      <th>13</th>\n",
       "      <td>اسرا اکبر پور</td>\n",
       "      <td>اسرا</td>\n",
       "      <td>زن</td>\n",
       "    </tr>\n",
       "    <tr>\n",
       "      <th>14</th>\n",
       "      <td>بهار همدانی</td>\n",
       "      <td>بهار</td>\n",
       "      <td>زن</td>\n",
       "    </tr>\n",
       "    <tr>\n",
       "      <th>15</th>\n",
       "      <td>نازنین رودگر</td>\n",
       "      <td>نازنین</td>\n",
       "      <td>زن</td>\n",
       "    </tr>\n",
       "    <tr>\n",
       "      <th>16</th>\n",
       "      <td>آرتین حمیدی</td>\n",
       "      <td>آرتین</td>\n",
       "      <td>مرد</td>\n",
       "    </tr>\n",
       "    <tr>\n",
       "      <th>17</th>\n",
       "      <td>محمدامین جلالی</td>\n",
       "      <td>محمدامین</td>\n",
       "      <td>مرد</td>\n",
       "    </tr>\n",
       "    <tr>\n",
       "      <th>18</th>\n",
       "      <td>هستی عزیزی</td>\n",
       "      <td>هستی</td>\n",
       "      <td>زن</td>\n",
       "    </tr>\n",
       "    <tr>\n",
       "      <th>19</th>\n",
       "      <td>سرکار خانم دکتر نازنین سعیدی</td>\n",
       "      <td>سرکار</td>\n",
       "      <td>None</td>\n",
       "    </tr>\n",
       "    <tr>\n",
       "      <th>20</th>\n",
       "      <td>مهدیه حمیدی</td>\n",
       "      <td>مهدیه</td>\n",
       "      <td>زن</td>\n",
       "    </tr>\n",
       "    <tr>\n",
       "      <th>21</th>\n",
       "      <td>سبحان لاچینی</td>\n",
       "      <td>سبحان</td>\n",
       "      <td>زن</td>\n",
       "    </tr>\n",
       "    <tr>\n",
       "      <th>22</th>\n",
       "      <td>محيا رسته</td>\n",
       "      <td>محيا</td>\n",
       "      <td>مرد</td>\n",
       "    </tr>\n",
       "    <tr>\n",
       "      <th>23</th>\n",
       "      <td>سرکار خانم دکتر آوا روحانی</td>\n",
       "      <td>سرکار</td>\n",
       "      <td>None</td>\n",
       "    </tr>\n",
       "    <tr>\n",
       "      <th>24</th>\n",
       "      <td>نازنین زهرا روحانی</td>\n",
       "      <td>نازنین</td>\n",
       "      <td>زن</td>\n",
       "    </tr>\n",
       "  </tbody>\n",
       "</table>\n",
       "</div>"
      ],
      "text/plain": [
       "                             name        fn gender\n",
       "0                   محمدجواد زارع  محمدجواد    مرد\n",
       "1       سرکار خانم دکتر هليا هومن     سرکار   None\n",
       "2                   پارسا علی پور     پارسا    مرد\n",
       "3   سرکار خانم دکتر نرگس علی شاهی     سرکار   None\n",
       "4                امیرمهدی نیلوفری  امیرمهدی    مرد\n",
       "5    جناب آقای دکتر ابوالفضل فرجی      جناب    مرد\n",
       "6      جناب آقای محمدیاسین تهرانی      جناب    مرد\n",
       "7                    اميرعلي وثاق   اميرعلي    مرد\n",
       "8                   نيايش نیلوفری     نيايش   None\n",
       "9                    علیرضا رودگر    علیرضا    مرد\n",
       "10                     مهسا نعمتی      مهسا     زن\n",
       "11                یاسمین عبدالعلی    یاسمین     زن\n",
       "12      جناب آقای دکتر آرين دادفر      جناب    مرد\n",
       "13                  اسرا اکبر پور      اسرا     زن\n",
       "14                    بهار همدانی      بهار     زن\n",
       "15                   نازنین رودگر    نازنین     زن\n",
       "16                    آرتین حمیدی     آرتین    مرد\n",
       "17                 محمدامین جلالی  محمدامین    مرد\n",
       "18                     هستی عزیزی      هستی     زن\n",
       "19   سرکار خانم دکتر نازنین سعیدی     سرکار   None\n",
       "20                    مهدیه حمیدی     مهدیه     زن\n",
       "21                   سبحان لاچینی     سبحان     زن\n",
       "22                      محيا رسته      محيا    مرد\n",
       "23     سرکار خانم دکتر آوا روحانی     سرکار   None\n",
       "24             نازنین زهرا روحانی    نازنین     زن"
      ]
     },
     "execution_count": 296,
     "metadata": {},
     "output_type": "execute_result"
    }
   ],
   "source": [
    "df_per"
   ]
  },
  {
   "cell_type": "code",
   "execution_count": null,
   "id": "1d42b151-0369-4544-a784-4575478bf5c1",
   "metadata": {},
   "outputs": [],
   "source": []
  },
  {
   "cell_type": "code",
   "execution_count": null,
   "id": "b0af1956-83a8-4278-9551-3f6b9c3b58b9",
   "metadata": {},
   "outputs": [],
   "source": []
  }
 ],
 "metadata": {
  "kernelspec": {
   "display_name": "Python 3 (ipykernel)",
   "language": "python",
   "name": "python3"
  },
  "language_info": {
   "codemirror_mode": {
    "name": "ipython",
    "version": 3
   },
   "file_extension": ".py",
   "mimetype": "text/x-python",
   "name": "python",
   "nbconvert_exporter": "python",
   "pygments_lexer": "ipython3",
   "version": "3.8.12"
  }
 },
 "nbformat": 4,
 "nbformat_minor": 5
}
