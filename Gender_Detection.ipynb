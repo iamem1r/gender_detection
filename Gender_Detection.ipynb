{
 "cells": [
  {
   "cell_type": "code",
   "execution_count": 3,
   "id": "5ed962d8-798e-42d1-964e-e9c105ffb01d",
   "metadata": {},
   "outputs": [],
   "source": [
    "import pandas as pd\n",
    "import numpy as np\n",
    "from faker import Faker"
   ]
  },
  {
   "cell_type": "code",
   "execution_count": 5,
   "id": "160f9171-0232-41e9-8729-a4108f0fc0e6",
   "metadata": {},
   "outputs": [],
   "source": [
    "fake = Faker()"
   ]
  },
  {
   "cell_type": "code",
   "execution_count": 18,
   "id": "415320c0-03c1-494b-bc68-9b6dd391b6f8",
   "metadata": {},
   "outputs": [
    {
     "data": {
      "text/plain": [
       "'Mark Cross'"
      ]
     },
     "execution_count": 18,
     "metadata": {},
     "output_type": "execute_result"
    }
   ],
   "source": [
    "fake.name()"
   ]
  },
  {
   "cell_type": "code",
   "execution_count": 19,
   "id": "3aff35e4-26d4-4520-8e09-eb054abe7d94",
   "metadata": {},
   "outputs": [
    {
     "data": {
      "text/plain": [
       "'892 Zachary Stravenue\\nHopkinsport, OK 06488'"
      ]
     },
     "execution_count": 19,
     "metadata": {},
     "output_type": "execute_result"
    }
   ],
   "source": [
    "fake.address()"
   ]
  },
  {
   "cell_type": "code",
   "execution_count": 20,
   "id": "a8a24bfc-fd5b-4a14-ad37-1c54a7fc71ec",
   "metadata": {},
   "outputs": [
    {
     "data": {
      "text/plain": [
       "'Guess rule movement. Miss with be. Here seat concern may.\\nTurn difference very quite today.'"
      ]
     },
     "execution_count": 20,
     "metadata": {},
     "output_type": "execute_result"
    }
   ],
   "source": [
    "fake.text()"
   ]
  },
  {
   "cell_type": "code",
   "execution_count": 36,
   "id": "607807d2-cb32-4cf9-8aeb-a7efc8ac6c22",
   "metadata": {},
   "outputs": [],
   "source": [
    "name = []\n",
    "for _ in range(1000):\n",
    "    name.append(fake.name())"
   ]
  },
  {
   "cell_type": "code",
   "execution_count": 37,
   "id": "f9d3ced8-2a36-4c74-8882-d5abd6a1618d",
   "metadata": {},
   "outputs": [],
   "source": [
    "address = []\n",
    "for _ in range(1000):\n",
    "    address.append(fake.address())"
   ]
  },
  {
   "cell_type": "code",
   "execution_count": 38,
   "id": "9ab3ad40-b6ee-463d-8c67-7e2a50b38395",
   "metadata": {},
   "outputs": [],
   "source": [
    "text = []\n",
    "for _ in range(1000):\n",
    "    text.append(fake.text())"
   ]
  },
  {
   "cell_type": "code",
   "execution_count": 39,
   "id": "6c518d96-dabe-4e7c-abc8-55667d3a6bed",
   "metadata": {},
   "outputs": [],
   "source": [
    "df = pd.DataFrame({\n",
    "    'name': name,\n",
    "    'address': address,\n",
    "     'text': text\n",
    "    })"
   ]
  },
  {
   "cell_type": "code",
   "execution_count": 43,
   "id": "73da6d8b-e6be-4dd3-b167-73f51a091e86",
   "metadata": {},
   "outputs": [
    {
     "data": {
      "text/plain": [
       "['__annotations__',\n",
       " '__class__',\n",
       " '__deepcopy__',\n",
       " '__delattr__',\n",
       " '__dict__',\n",
       " '__dir__',\n",
       " '__doc__',\n",
       " '__eq__',\n",
       " '__format__',\n",
       " '__ge__',\n",
       " '__getattr__',\n",
       " '__getattribute__',\n",
       " '__getitem__',\n",
       " '__gt__',\n",
       " '__hash__',\n",
       " '__init__',\n",
       " '__init_subclass__',\n",
       " '__le__',\n",
       " '__lt__',\n",
       " '__module__',\n",
       " '__ne__',\n",
       " '__new__',\n",
       " '__reduce__',\n",
       " '__reduce_ex__',\n",
       " '__repr__',\n",
       " '__setattr__',\n",
       " '__setstate__',\n",
       " '__sizeof__',\n",
       " '__str__',\n",
       " '__subclasshook__',\n",
       " '__weakref__',\n",
       " '_factories',\n",
       " '_factory_map',\n",
       " '_locales',\n",
       " '_map_provider_method',\n",
       " '_select_factory',\n",
       " '_select_factory_choice',\n",
       " '_select_factory_distribution',\n",
       " '_unique_proxy',\n",
       " '_weights',\n",
       " 'aba',\n",
       " 'add_provider',\n",
       " 'address',\n",
       " 'administrative_unit',\n",
       " 'am_pm',\n",
       " 'android_platform_token',\n",
       " 'ascii_company_email',\n",
       " 'ascii_email',\n",
       " 'ascii_free_email',\n",
       " 'ascii_safe_email',\n",
       " 'bank_country',\n",
       " 'bban',\n",
       " 'binary',\n",
       " 'boolean',\n",
       " 'bothify',\n",
       " 'bs',\n",
       " 'building_number',\n",
       " 'cache_pattern',\n",
       " 'catch_phrase',\n",
       " 'century',\n",
       " 'chrome',\n",
       " 'city',\n",
       " 'city_prefix',\n",
       " 'city_suffix',\n",
       " 'color',\n",
       " 'color_name',\n",
       " 'company',\n",
       " 'company_email',\n",
       " 'company_suffix',\n",
       " 'coordinate',\n",
       " 'country',\n",
       " 'country_calling_code',\n",
       " 'country_code',\n",
       " 'credit_card_expire',\n",
       " 'credit_card_full',\n",
       " 'credit_card_number',\n",
       " 'credit_card_provider',\n",
       " 'credit_card_security_code',\n",
       " 'cryptocurrency',\n",
       " 'cryptocurrency_code',\n",
       " 'cryptocurrency_name',\n",
       " 'csv',\n",
       " 'currency',\n",
       " 'currency_code',\n",
       " 'currency_name',\n",
       " 'currency_symbol',\n",
       " 'current_country',\n",
       " 'current_country_code',\n",
       " 'date',\n",
       " 'date_between',\n",
       " 'date_between_dates',\n",
       " 'date_object',\n",
       " 'date_of_birth',\n",
       " 'date_this_century',\n",
       " 'date_this_decade',\n",
       " 'date_this_month',\n",
       " 'date_this_year',\n",
       " 'date_time',\n",
       " 'date_time_ad',\n",
       " 'date_time_between',\n",
       " 'date_time_between_dates',\n",
       " 'date_time_this_century',\n",
       " 'date_time_this_decade',\n",
       " 'date_time_this_month',\n",
       " 'date_time_this_year',\n",
       " 'day_of_month',\n",
       " 'day_of_week',\n",
       " 'del_arguments',\n",
       " 'dga',\n",
       " 'domain_name',\n",
       " 'domain_word',\n",
       " 'dsv',\n",
       " 'ean',\n",
       " 'ean13',\n",
       " 'ean8',\n",
       " 'ein',\n",
       " 'email',\n",
       " 'factories',\n",
       " 'file_extension',\n",
       " 'file_name',\n",
       " 'file_path',\n",
       " 'filter_by_length',\n",
       " 'firefox',\n",
       " 'first_name',\n",
       " 'first_name_as_list',\n",
       " 'first_name_female',\n",
       " 'first_name_female_as_list',\n",
       " 'first_name_male',\n",
       " 'first_name_male_as_list',\n",
       " 'first_name_nonbinary',\n",
       " 'first_name_nonbinary_as_list',\n",
       " 'fixed_width',\n",
       " 'format',\n",
       " 'free_email',\n",
       " 'free_email_domain',\n",
       " 'future_date',\n",
       " 'future_datetime',\n",
       " 'generator_attrs',\n",
       " 'get_arguments',\n",
       " 'get_formatter',\n",
       " 'get_providers',\n",
       " 'hex_color',\n",
       " 'hexify',\n",
       " 'hostname',\n",
       " 'http_method',\n",
       " 'iana_id',\n",
       " 'iban',\n",
       " 'image',\n",
       " 'image_url',\n",
       " 'internet_explorer',\n",
       " 'invalid_ssn',\n",
       " 'ios_platform_token',\n",
       " 'ipv4',\n",
       " 'ipv4_network_class',\n",
       " 'ipv4_private',\n",
       " 'ipv4_public',\n",
       " 'ipv6',\n",
       " 'isbn10',\n",
       " 'isbn13',\n",
       " 'iso8601',\n",
       " 'items',\n",
       " 'itin',\n",
       " 'job',\n",
       " 'json',\n",
       " 'language_code',\n",
       " 'language_name',\n",
       " 'last_name',\n",
       " 'last_name_as_list',\n",
       " 'last_name_female',\n",
       " 'last_name_female_as_list',\n",
       " 'last_name_male',\n",
       " 'last_name_male_as_list',\n",
       " 'last_name_nonbinary',\n",
       " 'last_name_nonbinary_as_list',\n",
       " 'latitude',\n",
       " 'latlng',\n",
       " 'lexify',\n",
       " 'license_plate',\n",
       " 'linux_platform_token',\n",
       " 'linux_processor',\n",
       " 'local_latlng',\n",
       " 'locale',\n",
       " 'locales',\n",
       " 'localized_ean',\n",
       " 'localized_ean13',\n",
       " 'localized_ean8',\n",
       " 'location_on_land',\n",
       " 'longitude',\n",
       " 'mac_address',\n",
       " 'mac_platform_token',\n",
       " 'mac_processor',\n",
       " 'md5',\n",
       " 'military_apo',\n",
       " 'military_dpo',\n",
       " 'military_ship',\n",
       " 'military_state',\n",
       " 'mime_type',\n",
       " 'month',\n",
       " 'month_name',\n",
       " 'msisdn',\n",
       " 'name',\n",
       " 'name_female',\n",
       " 'name_male',\n",
       " 'name_nonbinary',\n",
       " 'nic_handle',\n",
       " 'nic_handles',\n",
       " 'null_boolean',\n",
       " 'numerify',\n",
       " 'opera',\n",
       " 'paragraph',\n",
       " 'paragraphs',\n",
       " 'parse',\n",
       " 'password',\n",
       " 'past_date',\n",
       " 'past_datetime',\n",
       " 'phone_number',\n",
       " 'port_number',\n",
       " 'postalcode',\n",
       " 'postalcode_in_state',\n",
       " 'postalcode_plus4',\n",
       " 'postcode',\n",
       " 'postcode_in_state',\n",
       " 'prefix',\n",
       " 'prefix_as_list',\n",
       " 'prefix_female',\n",
       " 'prefix_female_as_list',\n",
       " 'prefix_male',\n",
       " 'prefix_male_as_list',\n",
       " 'prefix_nonbinary',\n",
       " 'prefix_nonbinary_as_list',\n",
       " 'pricetag',\n",
       " 'profile',\n",
       " 'provider',\n",
       " 'providers',\n",
       " 'psv',\n",
       " 'pybool',\n",
       " 'pydecimal',\n",
       " 'pydict',\n",
       " 'pyfloat',\n",
       " 'pyint',\n",
       " 'pyiterable',\n",
       " 'pylist',\n",
       " 'pyset',\n",
       " 'pystr',\n",
       " 'pystr_format',\n",
       " 'pystruct',\n",
       " 'pytimezone',\n",
       " 'pytuple',\n",
       " 'random',\n",
       " 'random_choices',\n",
       " 'random_digit',\n",
       " 'random_digit_not_null',\n",
       " 'random_digit_not_null_or_empty',\n",
       " 'random_digit_or_empty',\n",
       " 'random_element',\n",
       " 'random_elements',\n",
       " 'random_int',\n",
       " 'random_letter',\n",
       " 'random_letters',\n",
       " 'random_lowercase_letter',\n",
       " 'random_number',\n",
       " 'random_sample',\n",
       " 'random_uppercase_letter',\n",
       " 'randomize_nb_elements',\n",
       " 'rgb_color',\n",
       " 'rgb_css_color',\n",
       " 'ripe_id',\n",
       " 'safari',\n",
       " 'safe_color_name',\n",
       " 'safe_domain_name',\n",
       " 'safe_email',\n",
       " 'safe_hex_color',\n",
       " 'secondary_address',\n",
       " 'seed',\n",
       " 'seed_instance',\n",
       " 'seed_locale',\n",
       " 'sentence',\n",
       " 'sentences',\n",
       " 'set_arguments',\n",
       " 'set_formatter',\n",
       " 'sha1',\n",
       " 'sha256',\n",
       " 'simple_profile',\n",
       " 'slug',\n",
       " 'ssn',\n",
       " 'state',\n",
       " 'state_abbr',\n",
       " 'street_address',\n",
       " 'street_name',\n",
       " 'street_suffix',\n",
       " 'suffix',\n",
       " 'suffix_as_list',\n",
       " 'suffix_female',\n",
       " 'suffix_female_as_list',\n",
       " 'suffix_male',\n",
       " 'suffix_male_as_list',\n",
       " 'suffix_nonbinary',\n",
       " 'suffix_nonbinary_as_list',\n",
       " 'swift',\n",
       " 'swift11',\n",
       " 'swift8',\n",
       " 'tar',\n",
       " 'text',\n",
       " 'texts',\n",
       " 'time',\n",
       " 'time_delta',\n",
       " 'time_object',\n",
       " 'time_series',\n",
       " 'timezone',\n",
       " 'tld',\n",
       " 'tsv',\n",
       " 'unique',\n",
       " 'unix_device',\n",
       " 'unix_partition',\n",
       " 'unix_time',\n",
       " 'upc_a',\n",
       " 'upc_e',\n",
       " 'uri',\n",
       " 'uri_extension',\n",
       " 'uri_page',\n",
       " 'uri_path',\n",
       " 'url',\n",
       " 'user_agent',\n",
       " 'user_name',\n",
       " 'uuid4',\n",
       " 'weights',\n",
       " 'windows_platform_token',\n",
       " 'word',\n",
       " 'words',\n",
       " 'year',\n",
       " 'zip',\n",
       " 'zipcode',\n",
       " 'zipcode_in_state',\n",
       " 'zipcode_plus4']"
      ]
     },
     "execution_count": 43,
     "metadata": {},
     "output_type": "execute_result"
    }
   ],
   "source": [
    "dir(fake)"
   ]
  },
  {
   "cell_type": "code",
   "execution_count": 44,
   "id": "83a6ea9f-5b29-46be-bb0c-7d4f474e0174",
   "metadata": {},
   "outputs": [
    {
     "data": {
      "text/plain": [
       "'New Zealand'"
      ]
     },
     "execution_count": 44,
     "metadata": {},
     "output_type": "execute_result"
    }
   ],
   "source": [
    "fake.country()"
   ]
  },
  {
   "cell_type": "code",
   "execution_count": 45,
   "id": "58f36255-6a5e-40c4-b312-9132a674abe4",
   "metadata": {},
   "outputs": [
    {
     "data": {
      "text/plain": [
       "'robert52@example.net'"
      ]
     },
     "execution_count": 45,
     "metadata": {},
     "output_type": "execute_result"
    }
   ],
   "source": [
    "fake.email()"
   ]
  },
  {
   "cell_type": "code",
   "execution_count": 46,
   "id": "abc0715d-06c0-42c5-8ae3-09c51b8c86a2",
   "metadata": {},
   "outputs": [
    {
     "data": {
      "text/plain": [
       "'2014'"
      ]
     },
     "execution_count": 46,
     "metadata": {},
     "output_type": "execute_result"
    }
   ],
   "source": [
    "fake.year()"
   ]
  },
  {
   "cell_type": "code",
   "execution_count": 52,
   "id": "1544e0ee-6edc-43b4-b3e6-448f0b9933a0",
   "metadata": {},
   "outputs": [
    {
     "data": {
      "text/plain": [
       "'ber_DZ'"
      ]
     },
     "execution_count": 52,
     "metadata": {},
     "output_type": "execute_result"
    }
   ],
   "source": [
    "fake.locale()"
   ]
  },
  {
   "cell_type": "code",
   "execution_count": 60,
   "id": "b8416fab-c646-417f-a27f-fbc238a11748",
   "metadata": {},
   "outputs": [],
   "source": [
    "faker = Faker('it_IT')"
   ]
  },
  {
   "cell_type": "code",
   "execution_count": 69,
   "id": "dfc7efcf-d79d-409e-b985-9be11f8e3c7d",
   "metadata": {},
   "outputs": [
    {
     "data": {
      "text/plain": [
       "'Paoletta Asmundo'"
      ]
     },
     "execution_count": 69,
     "metadata": {},
     "output_type": "execute_result"
    }
   ],
   "source": [
    "faker.name()"
   ]
  },
  {
   "cell_type": "code",
   "execution_count": 91,
   "id": "55c0000b-5f80-498a-a0d3-07e5e7b68b45",
   "metadata": {},
   "outputs": [
    {
     "data": {
      "text/plain": [
       "('BSD', 'Bahamian dollar')"
      ]
     },
     "execution_count": 91,
     "metadata": {},
     "output_type": "execute_result"
    }
   ],
   "source": [
    "fake.currency()"
   ]
  },
  {
   "cell_type": "code",
   "execution_count": null,
   "id": "e901fef1-5d0a-4706-bc7b-4e99ee2a3b6c",
   "metadata": {},
   "outputs": [],
   "source": []
  },
  {
   "cell_type": "code",
   "execution_count": null,
   "id": "6d9025e1-b768-4aae-9be8-9fa71d1f270c",
   "metadata": {},
   "outputs": [],
   "source": []
  },
  {
   "cell_type": "code",
   "execution_count": null,
   "id": "e5527bce-9578-4492-98ae-6e0a4601f862",
   "metadata": {},
   "outputs": [],
   "source": []
  },
  {
   "cell_type": "code",
   "execution_count": null,
   "id": "6705a4f1-30ca-4396-9834-37e4876880e9",
   "metadata": {},
   "outputs": [],
   "source": []
  }
 ],
 "metadata": {
  "kernelspec": {
   "display_name": "Python 3 (ipykernel)",
   "language": "python",
   "name": "python3"
  },
  "language_info": {
   "codemirror_mode": {
    "name": "ipython",
    "version": 3
   },
   "file_extension": ".py",
   "mimetype": "text/x-python",
   "name": "python",
   "nbconvert_exporter": "python",
   "pygments_lexer": "ipython3",
   "version": "3.8.12"
  }
 },
 "nbformat": 4,
 "nbformat_minor": 5
}
