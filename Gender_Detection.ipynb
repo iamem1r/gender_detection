{
 "cells": [
  {
   "cell_type": "markdown",
   "id": "bf0acdd6-ccd1-432f-9b2d-6b2cdeea9272",
   "metadata": {},
   "source": [
    "## <img src=\"./analytics_logo.jpg\" width=\"80\" height=\"80\"/> Mini Project: Predict Gender from Name"
   ]
  },
  {
   "cell_type": "markdown",
   "id": "7ef753f1-1696-4c75-9496-5a156c25119d",
   "metadata": {},
   "source": [
    "In this project I'm going to create a dataframe from scratch with fake data by Faker library, then with NamesDataset library I'll predict the gender of names."
   ]
  },
  {
   "cell_type": "markdown",
   "id": "eda23099-2b71-4e5a-a2c8-c4266b5590e7",
   "metadata": {},
   "source": [
    "## Prerequisites"
   ]
  },
  {
   "cell_type": "markdown",
   "id": "9b3bbdea-9c7f-4ca1-819a-36401ea486e4",
   "metadata": {},
   "source": [
    "To do so, we use the following libraries:\n",
    "- [`Faker`](https://github.com/joke2k/faker): To generate fake names\n",
    "- [`names-dataset`](https://github.com/philipperemy/name-dataset): To get gender and country info"
   ]
  },
  {
   "cell_type": "code",
   "execution_count": null,
   "id": "70cce97f-cf06-4493-a3dc-b6a5d8ab810a",
   "metadata": {},
   "outputs": [],
   "source": [
    "!pip install Faker\n",
    "!pip install names-dataset"
   ]
  },
  {
   "cell_type": "markdown",
   "id": "b4b513bb-c1e4-4215-9a8c-c9e3e700be4d",
   "metadata": {},
   "source": [
    "# Let's Start"
   ]
  },
  {
   "cell_type": "markdown",
   "id": "a2265b91-8d54-4ffa-a443-92767a52cdf2",
   "metadata": {},
   "source": [
    "#### import required libraries"
   ]
  },
  {
   "cell_type": "code",
   "execution_count": 20,
   "id": "bcd8c334-52da-44b9-b6cc-e89b5dbbe607",
   "metadata": {},
   "outputs": [],
   "source": [
    "import pandas as pd\n",
    "import numpy as np\n",
    "from faker import Faker\n",
    "from faker.providers import internet\n",
    "from names_dataset import NameDataset, NameWrapper"
   ]
  },
  {
   "cell_type": "markdown",
   "id": "128db285-4491-4718-a53b-e1068dbc5729",
   "metadata": {},
   "source": [
    "#### generate fake data by Faker"
   ]
  },
  {
   "cell_type": "code",
   "execution_count": 42,
   "id": "ba35150e-2d24-4e73-858e-501a20962e00",
   "metadata": {},
   "outputs": [],
   "source": [
    "faker = Faker()"
   ]
  },
  {
   "cell_type": "code",
   "execution_count": 65,
   "id": "ca6021ac-e9cd-4956-8565-f165c351eabf",
   "metadata": {
    "tags": []
   },
   "outputs": [
    {
     "data": {
      "text/plain": [
       "array(['David Baker', 'Paige Long', 'Nicole Arias DDS', 'Lisa Brooks',\n",
       "       'Melvin Bailey', 'Courtney Lynn', 'Dylan Vasquez', 'Keith Shaffer',\n",
       "       'John Fowler', 'Kevin Johnson'], dtype='<U31')"
      ]
     },
     "execution_count": 65,
     "metadata": {},
     "output_type": "execute_result"
    }
   ],
   "source": [
    "names = np.array([faker.name() for _ in range(1000)], dtype='U31')\n",
    "names[:10]"
   ]
  },
  {
   "cell_type": "code",
   "execution_count": 44,
   "id": "99fe2c18-cdf2-4d44-aef2-416c9bfa3238",
   "metadata": {
    "tags": []
   },
   "outputs": [
    {
     "data": {
      "text/plain": [
       "array(['781 Laura Drive Apt. 593\\nGarciastad, OR 96308',\n",
       "       '10181 Christopher Forks\\nKatelynstad, NH 04549',\n",
       "       '4141 Connie Roads\\nMillerbury, OK 41415',\n",
       "       '782 Cortez Stream Apt. 139\\nNorth Susanview, DE 40247',\n",
       "       '7334 Nicole Forge Apt. 148\\nFieldstown, NE 79103',\n",
       "       'PSC 5403, Box 9622\\nAPO AP 32279',\n",
       "       '859 Lawrence Freeway\\nWest Colechester, KY 03613',\n",
       "       '804 Hall Run\\nEast Juan, TN 06843',\n",
       "       '93317 Alexandra Courts Apt. 284\\nChristopherhaven, PA 02076',\n",
       "       '8207 Joseph Camp Suite 409\\nPatrickland, OH 00949'], dtype='<U62')"
      ]
     },
     "execution_count": 44,
     "metadata": {},
     "output_type": "execute_result"
    }
   ],
   "source": [
    "address = np.array([faker.address() for _ in range(1000)])\n",
    "address[:10]"
   ]
  },
  {
   "cell_type": "code",
   "execution_count": 47,
   "id": "4fd2a213-00a2-472a-bf36-00af791f99b2",
   "metadata": {},
   "outputs": [
    {
     "data": {
      "text/plain": [
       "array(['Money threat whole live east political within.',\n",
       "       'Clear fast change like yet step.',\n",
       "       'Cell computer mother manager degree agent whose.',\n",
       "       'Difficult if must serve.', 'Project candidate line.',\n",
       "       'Response just today understand coach than her the.',\n",
       "       'Center company news yard.',\n",
       "       'Billion professional fire build recent.', 'Add guess your car.',\n",
       "       'Share too young response each always.'], dtype='<U67')"
      ]
     },
     "execution_count": 47,
     "metadata": {},
     "output_type": "execute_result"
    }
   ],
   "source": [
    "comment = np.array([faker.sentence() for _ in range(1000)])\n",
    "comment[:10]"
   ]
  },
  {
   "cell_type": "code",
   "execution_count": 50,
   "id": "66254bb4-0d9f-41e7-b8c7-b39d7d624565",
   "metadata": {},
   "outputs": [
    {
     "data": {
      "text/plain": [
       "array(['10.128.210.201', '172.17.239.64', '172.29.104.235',\n",
       "       '10.2.219.223', '172.28.112.53', '192.168.184.9', '10.141.119.31',\n",
       "       '192.168.63.189', '172.24.44.86', '10.73.221.32'], dtype='<U15')"
      ]
     },
     "execution_count": 50,
     "metadata": {},
     "output_type": "execute_result"
    }
   ],
   "source": [
    "fake.add_provider(internet)\n",
    "ip = np.array([fake.ipv4_private() for _ in range(1000)])\n",
    "ip[:10]"
   ]
  },
  {
   "cell_type": "code",
   "execution_count": 53,
   "id": "ec64b82d-b8a8-4b84-8d05-a87e5e274c2f",
   "metadata": {},
   "outputs": [
    {
     "data": {
      "text/plain": [
       "array([16, 55, 20, 11, 51,  4,  5, 94, 65, 72])"
      ]
     },
     "execution_count": 53,
     "metadata": {},
     "output_type": "execute_result"
    }
   ],
   "source": [
    "age = np.random.randint(1,100,1000)\n",
    "age[:10]"
   ]
  },
  {
   "cell_type": "code",
   "execution_count": 59,
   "id": "a0da1322-1e04-45aa-ab54-149bd0e7bf52",
   "metadata": {},
   "outputs": [
    {
     "data": {
      "text/plain": [
       "array([False,  True, False, False,  True,  True,  True,  True,  True,\n",
       "        True])"
      ]
     },
     "execution_count": 59,
     "metadata": {},
     "output_type": "execute_result"
    }
   ],
   "source": [
    "status = np.random.randint(0,2,1000,dtype=bool)\n",
    "status[:10]"
   ]
  },
  {
   "cell_type": "markdown",
   "id": "a216f37f-35f5-4d57-9753-67b497f3d1d8",
   "metadata": {},
   "source": [
    "- So, I generate 6 np.array completely fake by Faker. now it's time to create a data frame with them."
   ]
  },
  {
   "cell_type": "code",
   "execution_count": 75,
   "id": "fdbe8824-c215-4e68-a601-f4a77095d81c",
   "metadata": {},
   "outputs": [],
   "source": [
    "df = pd.DataFrame(data=[names, age, address, comment, ip, status])"
   ]
  },
  {
   "cell_type": "code",
   "execution_count": 76,
   "id": "803989e7-9c0c-489f-981b-e18a60572915",
   "metadata": {},
   "outputs": [
    {
     "data": {
      "text/html": [
       "<div>\n",
       "<style scoped>\n",
       "    .dataframe tbody tr th:only-of-type {\n",
       "        vertical-align: middle;\n",
       "    }\n",
       "\n",
       "    .dataframe tbody tr th {\n",
       "        vertical-align: top;\n",
       "    }\n",
       "\n",
       "    .dataframe thead th {\n",
       "        text-align: right;\n",
       "    }\n",
       "</style>\n",
       "<table border=\"1\" class=\"dataframe\">\n",
       "  <thead>\n",
       "    <tr style=\"text-align: right;\">\n",
       "      <th></th>\n",
       "      <th>0</th>\n",
       "      <th>1</th>\n",
       "      <th>2</th>\n",
       "      <th>3</th>\n",
       "      <th>4</th>\n",
       "      <th>5</th>\n",
       "    </tr>\n",
       "  </thead>\n",
       "  <tbody>\n",
       "    <tr>\n",
       "      <th>0</th>\n",
       "      <td>David Baker</td>\n",
       "      <td>16</td>\n",
       "      <td>781 Laura Drive Apt. 593\\nGarciastad, OR 96308</td>\n",
       "      <td>Money threat whole live east political within.</td>\n",
       "      <td>10.128.210.201</td>\n",
       "      <td>False</td>\n",
       "    </tr>\n",
       "    <tr>\n",
       "      <th>1</th>\n",
       "      <td>Paige Long</td>\n",
       "      <td>55</td>\n",
       "      <td>10181 Christopher Forks\\nKatelynstad, NH 04549</td>\n",
       "      <td>Clear fast change like yet step.</td>\n",
       "      <td>172.17.239.64</td>\n",
       "      <td>True</td>\n",
       "    </tr>\n",
       "    <tr>\n",
       "      <th>2</th>\n",
       "      <td>Nicole Arias DDS</td>\n",
       "      <td>20</td>\n",
       "      <td>4141 Connie Roads\\nMillerbury, OK 41415</td>\n",
       "      <td>Cell computer mother manager degree agent whose.</td>\n",
       "      <td>172.29.104.235</td>\n",
       "      <td>False</td>\n",
       "    </tr>\n",
       "    <tr>\n",
       "      <th>3</th>\n",
       "      <td>Lisa Brooks</td>\n",
       "      <td>11</td>\n",
       "      <td>782 Cortez Stream Apt. 139\\nNorth Susanview, D...</td>\n",
       "      <td>Difficult if must serve.</td>\n",
       "      <td>10.2.219.223</td>\n",
       "      <td>False</td>\n",
       "    </tr>\n",
       "    <tr>\n",
       "      <th>4</th>\n",
       "      <td>Melvin Bailey</td>\n",
       "      <td>51</td>\n",
       "      <td>7334 Nicole Forge Apt. 148\\nFieldstown, NE 79103</td>\n",
       "      <td>Project candidate line.</td>\n",
       "      <td>172.28.112.53</td>\n",
       "      <td>True</td>\n",
       "    </tr>\n",
       "    <tr>\n",
       "      <th>...</th>\n",
       "      <td>...</td>\n",
       "      <td>...</td>\n",
       "      <td>...</td>\n",
       "      <td>...</td>\n",
       "      <td>...</td>\n",
       "      <td>...</td>\n",
       "    </tr>\n",
       "    <tr>\n",
       "      <th>995</th>\n",
       "      <td>Matthew Owens</td>\n",
       "      <td>45</td>\n",
       "      <td>USCGC Jones\\nFPO AP 55681</td>\n",
       "      <td>Respond meeting paper third.</td>\n",
       "      <td>10.244.14.20</td>\n",
       "      <td>True</td>\n",
       "    </tr>\n",
       "    <tr>\n",
       "      <th>996</th>\n",
       "      <td>Jamie Crawford</td>\n",
       "      <td>47</td>\n",
       "      <td>80546 Guerra Brooks Apt. 443\\nRiverahaven, CA ...</td>\n",
       "      <td>Common almost only check paper old cup.</td>\n",
       "      <td>10.133.251.246</td>\n",
       "      <td>False</td>\n",
       "    </tr>\n",
       "    <tr>\n",
       "      <th>997</th>\n",
       "      <td>Shannon Chandler</td>\n",
       "      <td>27</td>\n",
       "      <td>9798 Blair Walk\\nNorth Pamela, NH 28129</td>\n",
       "      <td>Away bring foreign become son available contro...</td>\n",
       "      <td>10.220.204.70</td>\n",
       "      <td>False</td>\n",
       "    </tr>\n",
       "    <tr>\n",
       "      <th>998</th>\n",
       "      <td>Hannah Cooper</td>\n",
       "      <td>20</td>\n",
       "      <td>309 Morris Land\\nEthanbury, MS 32060</td>\n",
       "      <td>Any low coach positive continue between also.</td>\n",
       "      <td>192.168.118.218</td>\n",
       "      <td>True</td>\n",
       "    </tr>\n",
       "    <tr>\n",
       "      <th>999</th>\n",
       "      <td>Anthony Jackson</td>\n",
       "      <td>38</td>\n",
       "      <td>2148 Burnett Ridge\\nEricside, GA 50252</td>\n",
       "      <td>Light actually positive between.</td>\n",
       "      <td>172.21.41.197</td>\n",
       "      <td>False</td>\n",
       "    </tr>\n",
       "  </tbody>\n",
       "</table>\n",
       "<p>1000 rows × 6 columns</p>\n",
       "</div>"
      ],
      "text/plain": [
       "                    0   1                                                  2  \\\n",
       "0         David Baker  16     781 Laura Drive Apt. 593\\nGarciastad, OR 96308   \n",
       "1          Paige Long  55     10181 Christopher Forks\\nKatelynstad, NH 04549   \n",
       "2    Nicole Arias DDS  20            4141 Connie Roads\\nMillerbury, OK 41415   \n",
       "3         Lisa Brooks  11  782 Cortez Stream Apt. 139\\nNorth Susanview, D...   \n",
       "4       Melvin Bailey  51   7334 Nicole Forge Apt. 148\\nFieldstown, NE 79103   \n",
       "..                ...  ..                                                ...   \n",
       "995     Matthew Owens  45                          USCGC Jones\\nFPO AP 55681   \n",
       "996    Jamie Crawford  47  80546 Guerra Brooks Apt. 443\\nRiverahaven, CA ...   \n",
       "997  Shannon Chandler  27            9798 Blair Walk\\nNorth Pamela, NH 28129   \n",
       "998     Hannah Cooper  20               309 Morris Land\\nEthanbury, MS 32060   \n",
       "999   Anthony Jackson  38             2148 Burnett Ridge\\nEricside, GA 50252   \n",
       "\n",
       "                                                     3                4      5  \n",
       "0       Money threat whole live east political within.   10.128.210.201  False  \n",
       "1                     Clear fast change like yet step.    172.17.239.64   True  \n",
       "2     Cell computer mother manager degree agent whose.   172.29.104.235  False  \n",
       "3                             Difficult if must serve.     10.2.219.223  False  \n",
       "4                              Project candidate line.    172.28.112.53   True  \n",
       "..                                                 ...              ...    ...  \n",
       "995                       Respond meeting paper third.     10.244.14.20   True  \n",
       "996            Common almost only check paper old cup.   10.133.251.246  False  \n",
       "997  Away bring foreign become son available contro...    10.220.204.70  False  \n",
       "998      Any low coach positive continue between also.  192.168.118.218   True  \n",
       "999                   Light actually positive between.    172.21.41.197  False  \n",
       "\n",
       "[1000 rows x 6 columns]"
      ]
     },
     "execution_count": 76,
     "metadata": {},
     "output_type": "execute_result"
    }
   ],
   "source": [
    "df = df.T\n",
    "df"
   ]
  },
  {
   "cell_type": "code",
   "execution_count": 78,
   "id": "18e74ffe-b245-4b2b-aa72-078f8b2b67eb",
   "metadata": {},
   "outputs": [],
   "source": [
    "df.columns = ['name', 'age', 'address', 'comment', 'ip', 'status']"
   ]
  },
  {
   "cell_type": "code",
   "execution_count": 79,
   "id": "481d466c-1f31-42d9-a0a8-66ed065552ac",
   "metadata": {},
   "outputs": [
    {
     "data": {
      "text/html": [
       "<div>\n",
       "<style scoped>\n",
       "    .dataframe tbody tr th:only-of-type {\n",
       "        vertical-align: middle;\n",
       "    }\n",
       "\n",
       "    .dataframe tbody tr th {\n",
       "        vertical-align: top;\n",
       "    }\n",
       "\n",
       "    .dataframe thead th {\n",
       "        text-align: right;\n",
       "    }\n",
       "</style>\n",
       "<table border=\"1\" class=\"dataframe\">\n",
       "  <thead>\n",
       "    <tr style=\"text-align: right;\">\n",
       "      <th></th>\n",
       "      <th>name</th>\n",
       "      <th>age</th>\n",
       "      <th>address</th>\n",
       "      <th>comment</th>\n",
       "      <th>ip</th>\n",
       "      <th>status</th>\n",
       "    </tr>\n",
       "  </thead>\n",
       "  <tbody>\n",
       "    <tr>\n",
       "      <th>0</th>\n",
       "      <td>David Baker</td>\n",
       "      <td>16</td>\n",
       "      <td>781 Laura Drive Apt. 593\\nGarciastad, OR 96308</td>\n",
       "      <td>Money threat whole live east political within.</td>\n",
       "      <td>10.128.210.201</td>\n",
       "      <td>False</td>\n",
       "    </tr>\n",
       "    <tr>\n",
       "      <th>1</th>\n",
       "      <td>Paige Long</td>\n",
       "      <td>55</td>\n",
       "      <td>10181 Christopher Forks\\nKatelynstad, NH 04549</td>\n",
       "      <td>Clear fast change like yet step.</td>\n",
       "      <td>172.17.239.64</td>\n",
       "      <td>True</td>\n",
       "    </tr>\n",
       "    <tr>\n",
       "      <th>2</th>\n",
       "      <td>Nicole Arias DDS</td>\n",
       "      <td>20</td>\n",
       "      <td>4141 Connie Roads\\nMillerbury, OK 41415</td>\n",
       "      <td>Cell computer mother manager degree agent whose.</td>\n",
       "      <td>172.29.104.235</td>\n",
       "      <td>False</td>\n",
       "    </tr>\n",
       "    <tr>\n",
       "      <th>3</th>\n",
       "      <td>Lisa Brooks</td>\n",
       "      <td>11</td>\n",
       "      <td>782 Cortez Stream Apt. 139\\nNorth Susanview, D...</td>\n",
       "      <td>Difficult if must serve.</td>\n",
       "      <td>10.2.219.223</td>\n",
       "      <td>False</td>\n",
       "    </tr>\n",
       "    <tr>\n",
       "      <th>4</th>\n",
       "      <td>Melvin Bailey</td>\n",
       "      <td>51</td>\n",
       "      <td>7334 Nicole Forge Apt. 148\\nFieldstown, NE 79103</td>\n",
       "      <td>Project candidate line.</td>\n",
       "      <td>172.28.112.53</td>\n",
       "      <td>True</td>\n",
       "    </tr>\n",
       "    <tr>\n",
       "      <th>...</th>\n",
       "      <td>...</td>\n",
       "      <td>...</td>\n",
       "      <td>...</td>\n",
       "      <td>...</td>\n",
       "      <td>...</td>\n",
       "      <td>...</td>\n",
       "    </tr>\n",
       "    <tr>\n",
       "      <th>995</th>\n",
       "      <td>Matthew Owens</td>\n",
       "      <td>45</td>\n",
       "      <td>USCGC Jones\\nFPO AP 55681</td>\n",
       "      <td>Respond meeting paper third.</td>\n",
       "      <td>10.244.14.20</td>\n",
       "      <td>True</td>\n",
       "    </tr>\n",
       "    <tr>\n",
       "      <th>996</th>\n",
       "      <td>Jamie Crawford</td>\n",
       "      <td>47</td>\n",
       "      <td>80546 Guerra Brooks Apt. 443\\nRiverahaven, CA ...</td>\n",
       "      <td>Common almost only check paper old cup.</td>\n",
       "      <td>10.133.251.246</td>\n",
       "      <td>False</td>\n",
       "    </tr>\n",
       "    <tr>\n",
       "      <th>997</th>\n",
       "      <td>Shannon Chandler</td>\n",
       "      <td>27</td>\n",
       "      <td>9798 Blair Walk\\nNorth Pamela, NH 28129</td>\n",
       "      <td>Away bring foreign become son available contro...</td>\n",
       "      <td>10.220.204.70</td>\n",
       "      <td>False</td>\n",
       "    </tr>\n",
       "    <tr>\n",
       "      <th>998</th>\n",
       "      <td>Hannah Cooper</td>\n",
       "      <td>20</td>\n",
       "      <td>309 Morris Land\\nEthanbury, MS 32060</td>\n",
       "      <td>Any low coach positive continue between also.</td>\n",
       "      <td>192.168.118.218</td>\n",
       "      <td>True</td>\n",
       "    </tr>\n",
       "    <tr>\n",
       "      <th>999</th>\n",
       "      <td>Anthony Jackson</td>\n",
       "      <td>38</td>\n",
       "      <td>2148 Burnett Ridge\\nEricside, GA 50252</td>\n",
       "      <td>Light actually positive between.</td>\n",
       "      <td>172.21.41.197</td>\n",
       "      <td>False</td>\n",
       "    </tr>\n",
       "  </tbody>\n",
       "</table>\n",
       "<p>1000 rows × 6 columns</p>\n",
       "</div>"
      ],
      "text/plain": [
       "                 name age                                            address  \\\n",
       "0         David Baker  16     781 Laura Drive Apt. 593\\nGarciastad, OR 96308   \n",
       "1          Paige Long  55     10181 Christopher Forks\\nKatelynstad, NH 04549   \n",
       "2    Nicole Arias DDS  20            4141 Connie Roads\\nMillerbury, OK 41415   \n",
       "3         Lisa Brooks  11  782 Cortez Stream Apt. 139\\nNorth Susanview, D...   \n",
       "4       Melvin Bailey  51   7334 Nicole Forge Apt. 148\\nFieldstown, NE 79103   \n",
       "..                ...  ..                                                ...   \n",
       "995     Matthew Owens  45                          USCGC Jones\\nFPO AP 55681   \n",
       "996    Jamie Crawford  47  80546 Guerra Brooks Apt. 443\\nRiverahaven, CA ...   \n",
       "997  Shannon Chandler  27            9798 Blair Walk\\nNorth Pamela, NH 28129   \n",
       "998     Hannah Cooper  20               309 Morris Land\\nEthanbury, MS 32060   \n",
       "999   Anthony Jackson  38             2148 Burnett Ridge\\nEricside, GA 50252   \n",
       "\n",
       "                                               comment               ip status  \n",
       "0       Money threat whole live east political within.   10.128.210.201  False  \n",
       "1                     Clear fast change like yet step.    172.17.239.64   True  \n",
       "2     Cell computer mother manager degree agent whose.   172.29.104.235  False  \n",
       "3                             Difficult if must serve.     10.2.219.223  False  \n",
       "4                              Project candidate line.    172.28.112.53   True  \n",
       "..                                                 ...              ...    ...  \n",
       "995                       Respond meeting paper third.     10.244.14.20   True  \n",
       "996            Common almost only check paper old cup.   10.133.251.246  False  \n",
       "997  Away bring foreign become son available contro...    10.220.204.70  False  \n",
       "998      Any low coach positive continue between also.  192.168.118.218   True  \n",
       "999                   Light actually positive between.    172.21.41.197  False  \n",
       "\n",
       "[1000 rows x 6 columns]"
      ]
     },
     "execution_count": 79,
     "metadata": {},
     "output_type": "execute_result"
    }
   ],
   "source": [
    "df"
   ]
  },
  {
   "cell_type": "code",
   "execution_count": null,
   "id": "b78c58b8-d1f0-4b22-a10a-39f72097d472",
   "metadata": {},
   "outputs": [],
   "source": []
  }
 ],
 "metadata": {
  "kernelspec": {
   "display_name": "Python 3 (ipykernel)",
   "language": "python",
   "name": "python3"
  },
  "language_info": {
   "codemirror_mode": {
    "name": "ipython",
    "version": 3
   },
   "file_extension": ".py",
   "mimetype": "text/x-python",
   "name": "python",
   "nbconvert_exporter": "python",
   "pygments_lexer": "ipython3",
   "version": "3.8.12"
  }
 },
 "nbformat": 4,
 "nbformat_minor": 5
}
