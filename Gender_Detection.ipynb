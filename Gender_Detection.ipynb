{
 "cells": [
  {
   "cell_type": "code",
   "execution_count": 3,
   "id": "5ed962d8-798e-42d1-964e-e9c105ffb01d",
   "metadata": {},
   "outputs": [],
   "source": [
    "import pandas as pd\n",
    "import numpy as np\n",
    "from faker import Faker"
   ]
  },
  {
   "cell_type": "code",
   "execution_count": 5,
   "id": "160f9171-0232-41e9-8729-a4108f0fc0e6",
   "metadata": {},
   "outputs": [],
   "source": [
    "fake = Faker()"
   ]
  },
  {
   "cell_type": "code",
   "execution_count": 18,
   "id": "415320c0-03c1-494b-bc68-9b6dd391b6f8",
   "metadata": {},
   "outputs": [
    {
     "data": {
      "text/plain": [
       "'Mark Cross'"
      ]
     },
     "execution_count": 18,
     "metadata": {},
     "output_type": "execute_result"
    }
   ],
   "source": [
    "fake.name()"
   ]
  },
  {
   "cell_type": "code",
   "execution_count": 19,
   "id": "3aff35e4-26d4-4520-8e09-eb054abe7d94",
   "metadata": {},
   "outputs": [
    {
     "data": {
      "text/plain": [
       "'892 Zachary Stravenue\\nHopkinsport, OK 06488'"
      ]
     },
     "execution_count": 19,
     "metadata": {},
     "output_type": "execute_result"
    }
   ],
   "source": [
    "fake.address()"
   ]
  },
  {
   "cell_type": "code",
   "execution_count": 20,
   "id": "a8a24bfc-fd5b-4a14-ad37-1c54a7fc71ec",
   "metadata": {},
   "outputs": [
    {
     "data": {
      "text/plain": [
       "'Guess rule movement. Miss with be. Here seat concern may.\\nTurn difference very quite today.'"
      ]
     },
     "execution_count": 20,
     "metadata": {},
     "output_type": "execute_result"
    }
   ],
   "source": [
    "fake.text()"
   ]
  },
  {
   "cell_type": "code",
   "execution_count": 28,
   "id": "607807d2-cb32-4cf9-8aeb-a7efc8ac6c22",
   "metadata": {},
   "outputs": [],
   "source": [
    "name = []\n",
    "for _ in range(100):\n",
    "    name.append(fake.name())"
   ]
  },
  {
   "cell_type": "code",
   "execution_count": 29,
   "id": "f9d3ced8-2a36-4c74-8882-d5abd6a1618d",
   "metadata": {},
   "outputs": [],
   "source": [
    "address = []\n",
    "for _ in range(100):\n",
    "    address.append(fake.address())"
   ]
  },
  {
   "cell_type": "code",
   "execution_count": 30,
   "id": "9ab3ad40-b6ee-463d-8c67-7e2a50b38395",
   "metadata": {},
   "outputs": [],
   "source": [
    "text = []\n",
    "for _ in range(100):\n",
    "    text.append(fake.text())"
   ]
  },
  {
   "cell_type": "code",
   "execution_count": 33,
   "id": "6c518d96-dabe-4e7c-abc8-55667d3a6bed",
   "metadata": {},
   "outputs": [
    {
     "data": {
      "text/plain": [
       "['32254 Ellis Port Apt. 703\\nLake Oscar, MO 43083',\n",
       " '9029 Adam Hill\\nNorth Amandaville, KS 97208',\n",
       " '65654 Tommy Rapids Suite 322\\nNew Ashleeland, OH 38420',\n",
       " '2458 Hunter Groves\\nMichaelchester, UT 56387',\n",
       " '417 Bobby Ridges\\nWest Alexis, NC 45159',\n",
       " '4203 Short Landing\\nRonaldland, TX 84446',\n",
       " '02807 Matthew Fall Apt. 470\\nWest Rickyland, TX 40326',\n",
       " '767 King Mountains\\nMartinezmouth, CA 85866',\n",
       " '85550 Moyer Meadows\\nVargasville, IL 57393',\n",
       " '57751 Allen Coves\\nEast Kevinland, CT 38189',\n",
       " '26146 Dorothy Drives Apt. 083\\nWest Tiffanymouth, SC 28338',\n",
       " '229 John Plain\\nWest David, VA 26226',\n",
       " '054 Alex Vista\\nDominguezville, AL 51057',\n",
       " 'PSC 0648, Box 1833\\nAPO AP 78975',\n",
       " '05145 Davis Spurs\\nPort Samantha, VA 93551',\n",
       " '42495 Austin Circle\\nNorth Jeremyport, MT 09321',\n",
       " 'Unit 0996 Box 4442\\nDPO AE 84645',\n",
       " '3387 Jeremy Union\\nWest Latasha, MA 52624',\n",
       " '121 Stevens Loaf\\nWest Jesushaven, SD 62453',\n",
       " 'USNV Garner\\nFPO AA 74954',\n",
       " '032 Hayden Way Apt. 899\\nPort Christinechester, HI 90977',\n",
       " '7975 Miguel Point Suite 809\\nMatthewberg, MT 14424',\n",
       " '424 Timothy Pike\\nJuarezmouth, NY 24189',\n",
       " '354 Emma Course\\nRichmondport, ME 58930',\n",
       " '8021 Porter Stream Apt. 347\\nShanemouth, WV 65370',\n",
       " 'USNS Montoya\\nFPO AA 23188',\n",
       " '6550 Justin Land\\nWest Robin, NJ 88447',\n",
       " '62752 Jessica Junction Suite 503\\nEast Michaelchester, IL 33135',\n",
       " '975 Williams Rapids Apt. 582\\nSouth Rachelfort, OH 10119',\n",
       " '7960 Riley View Suite 303\\nAmberhaven, OK 03364',\n",
       " '0756 Joy Trace Apt. 667\\nCarlstad, IL 67168',\n",
       " '163 Cobb Lodge Apt. 583\\nWeberborough, GA 83801',\n",
       " '207 Richard Plains\\nEast Natasha, NJ 18139',\n",
       " '41678 Justin Road Suite 008\\nPort Nicoleport, SC 95759',\n",
       " '616 Katelyn Islands Apt. 668\\nBeardburgh, SD 57482',\n",
       " '17345 Thompson Shore Apt. 985\\nNorth Marc, AZ 06165',\n",
       " '03497 Clifford Landing Apt. 473\\nNorth Christinastad, TX 25267',\n",
       " '520 Thompson Harbor\\nWelchfurt, GA 24630',\n",
       " '76821 Brown Estate\\nSouth Karenhaven, TX 85619',\n",
       " '485 Sarah Course\\nWatsonmouth, NE 10006',\n",
       " '360 Craig Ridges Suite 164\\nKathyburgh, ME 21800',\n",
       " '333 Stone Fords Suite 211\\nStephanieborough, IA 42576',\n",
       " 'Unit 0459 Box 4781\\nDPO AP 33524',\n",
       " 'Unit 0339 Box 9335\\nDPO AE 63915',\n",
       " '42774 Patricia Mission Apt. 500\\nSouth Annborough, AK 77363',\n",
       " '0508 Ramirez Well\\nRichardsontown, GA 40387',\n",
       " '861 Karina Common\\nWest Pamelahaven, NC 79704',\n",
       " '019 Emma Mission Apt. 310\\nAyalamouth, DE 55506',\n",
       " '9112 James Pines\\nWest Brandon, CO 67379',\n",
       " '087 David Roads\\nSouth Morgan, OH 86255',\n",
       " '51647 Stacey Landing Apt. 602\\nLake Randy, NE 61346',\n",
       " '063 Alexander Plains\\nLisashire, IN 10662',\n",
       " '1516 Martinez Shoal Apt. 092\\nEast Kiarafort, HI 15955',\n",
       " '32265 Jerry Tunnel\\nMichellefort, WA 95634',\n",
       " '771 Kelly Gardens\\nNew Jenniferland, DE 20210',\n",
       " '61748 Miranda Station\\nShannontown, OK 58894',\n",
       " 'Unit 1578 Box 4670\\nDPO AE 99216',\n",
       " '20391 Sellers Vista Apt. 301\\nWest Emilyside, MT 85467',\n",
       " '203 Lee Turnpike\\nWest Williamstad, HI 37524',\n",
       " 'Unit 7477 Box 2026\\nDPO AE 51019',\n",
       " '0256 Jodi Camp\\nBlairchester, MN 12999',\n",
       " '847 Sarah Mount Apt. 387\\nWilliamsborough, AZ 13047',\n",
       " '43448 Small Forge\\nMeganville, RI 52874',\n",
       " '435 Curry Creek Suite 353\\nJonesstad, VA 63360',\n",
       " '045 Cantrell Glen Apt. 962\\nPort Jessicaville, AZ 92979',\n",
       " '28422 Dylan Meadows Suite 351\\nPort Peterberg, CO 80102',\n",
       " '1770 Price Freeway Apt. 195\\nEast Robert, NV 79366',\n",
       " '279 Johnston Lock\\nShannonport, NC 05572',\n",
       " '6904 Fuentes Orchard\\nWest Carriestad, IN 81582',\n",
       " '15443 Jeffery Walks Apt. 329\\nLake Kent, HI 79429',\n",
       " '07836 Dylan Throughway Suite 817\\nLake Rodney, OH 19871',\n",
       " '40756 Jefferson Mountain Suite 800\\nPort Veronicaport, ID 58446',\n",
       " '3531 Myers Shoals Apt. 811\\nJuliaport, GA 44894',\n",
       " '828 Hudson Fall Apt. 061\\nWest Angelaport, NY 56554',\n",
       " '614 Joshua Estates\\nNew Allison, NC 19917',\n",
       " '920 Shaffer Stravenue\\nEast Katie, DE 85774',\n",
       " '00081 David Tunnel\\nSouth Sarahborough, IL 93810',\n",
       " 'Unit 1111 Box 3266\\nDPO AA 72593',\n",
       " '47288 Davis Ridge Suite 253\\nStoneberg, WY 31301',\n",
       " '50827 Evans Stream Suite 583\\nYoungfort, CO 58694',\n",
       " '4309 Murray Stream Apt. 616\\nNorth Stephaniebury, OK 76419',\n",
       " '16020 Young Park Apt. 583\\nClaudiamouth, WY 85813',\n",
       " '38137 Mcdaniel Street Apt. 928\\nPerryside, MO 68023',\n",
       " '836 Diaz Creek Suite 767\\nWest Joshua, IN 77687',\n",
       " '368 Mary Falls Apt. 144\\nSouth Cynthia, ME 57626',\n",
       " '22363 Leonard Harbor Suite 596\\nNorth Jeffreyland, PA 05940',\n",
       " '17884 Meyer Way\\nCatherineborough, VT 92820',\n",
       " '5820 Jonathan Avenue\\nCampbellview, DE 52850',\n",
       " '368 Owens Ridge Suite 005\\nEast Veronica, DC 10685',\n",
       " '866 Torres Coves\\nEast Stephen, IL 39661',\n",
       " '31995 Johnson Divide Apt. 713\\nHamiltonfort, IN 65939',\n",
       " '632 Mcpherson Ville\\nLake Sheri, AZ 53723',\n",
       " '98316 Michael Flats Suite 800\\nSouth Ginaberg, NJ 69483',\n",
       " 'PSC 5308, Box 2089\\nAPO AA 09283',\n",
       " 'USCGC Key\\nFPO AP 20247',\n",
       " '83025 James Locks\\nPort Ryan, IA 86040',\n",
       " '22228 Ryan Crossroad Suite 070\\nJohnsview, ND 59409',\n",
       " '842 Gray Loaf Suite 491\\nJosephbury, ND 21062',\n",
       " '279 Mary Valleys\\nLake Melissa, OR 26962',\n",
       " '043 Dustin Canyon Suite 062\\nBrownville, KY 67886']"
      ]
     },
     "execution_count": 33,
     "metadata": {},
     "output_type": "execute_result"
    }
   ],
   "source": [
    "address"
   ]
  },
  {
   "cell_type": "code",
   "execution_count": null,
   "id": "73da6d8b-e6be-4dd3-b167-73f51a091e86",
   "metadata": {},
   "outputs": [],
   "source": []
  }
 ],
 "metadata": {
  "kernelspec": {
   "display_name": "Python 3 (ipykernel)",
   "language": "python",
   "name": "python3"
  },
  "language_info": {
   "codemirror_mode": {
    "name": "ipython",
    "version": 3
   },
   "file_extension": ".py",
   "mimetype": "text/x-python",
   "name": "python",
   "nbconvert_exporter": "python",
   "pygments_lexer": "ipython3",
   "version": "3.8.12"
  }
 },
 "nbformat": 4,
 "nbformat_minor": 5
}
